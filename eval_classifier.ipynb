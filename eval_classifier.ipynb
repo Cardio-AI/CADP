{
 "cells": [
  {
   "cell_type": "code",
   "execution_count": 1,
   "id": "192c2682-2050-4963-8dce-a1727b27fc71",
   "metadata": {},
   "outputs": [],
   "source": [
    "import json\n",
    "import os\n",
    "import copy\n",
    "from typing import Optional\n",
    "from typing import Tuple\n",
    "from typing import List\n",
    "import torch\n",
    "import torchvision\n",
    "import numpy as np\n",
    "import matplotlib.pyplot as plt\n",
    "plt.rcParams.update({\n",
    "    \"text.usetex\": True,\n",
    "    \"font.family\": \"sans-serif\",\n",
    "    \"font.sans-serif\": [\"Helvetica\"]})\n",
    "import seaborn as sns\n",
    "sns.set()\n",
    "from tqdm.notebook import tqdm\n",
    "from pathlib import Path\n",
    "import models\n",
    "import data\n",
    "import viz\n",
    "import utils\n",
    "import latent_dp\n",
    "from classifier import Classifier"
   ]
  },
  {
   "cell_type": "code",
   "execution_count": 2,
   "id": "20c6c163-8075-4592-aab4-e9000f40f77b",
   "metadata": {},
   "outputs": [],
   "source": [
    "def calc_uncert(p_hat: torch.Tensor) -> Tuple[torch.Tensor, ...]:\n",
    "    aleatoric = torch.mean(p_hat*(1-p_hat), dim=0)\n",
    "    epistemic = torch.mean(p_hat**2, dim=0) - torch.mean(p_hat, dim=0)**2\n",
    "    uncert = aleatoric + epistemic\n",
    "    return uncert, aleatoric, epistemic\n",
    "\n",
    "def eval_classifier(exp_name: str, \n",
    "                    mc_iter: int = 25,\n",
    "                    data_type: str = \"gt\",\n",
    "                    data_path : Optional[str] = None,\n",
    "                    dp_sgd: bool = False) -> Tuple[np.ndarray, ...]:\n",
    "    mean_accs = []\n",
    "    uncerts_per_class = []\n",
    "    epsilons = [\"no_dp\", 0.5, 0.8, 1.0, 2.0, 3.0, 6.0]\n",
    "    for epsilon in tqdm(epsilons, desc=\"epsilons\"):\n",
    "        if not dp_sgd:\n",
    "            cls_path = f\"./experiments/{exp_name}/classifier/{epsilon}\"\n",
    "        else:\n",
    "            cls_path = f\"./experiments/{exp_name}/classifier/dp_sgd/{epsilon}\"\n",
    "        timestamps = os.listdir(cls_path)\n",
    "\n",
    "        mean_accs_pe = []\n",
    "        uncerts_per_class_pe = []\n",
    "        \n",
    "        for ts in tqdm(timestamps, desc=\"timestamps\", leave=False):\n",
    "            with open(f\"{cls_path}/{ts}/summary.json\", 'r') as f:\n",
    "                config = json.load(f)\n",
    "\n",
    "            img_dims = getattr(data, f\"{config['dataset']}_img_dims\")\n",
    "            n_classes = getattr(data, f\"{config['dataset']}_n_classes\")\n",
    "            batch_size = config[\"batch_size\"]\n",
    "            \n",
    "            if data_type == \"dp\" and epsilon != \"no_dp\":\n",
    "                t = getattr(data, f\"{config['dataset']}_transform\")\n",
    "                test_data = torchvision.datasets.ImageFolder(f\"{data_path}/{epsilon}\", transform=t)\n",
    "            else:\n",
    "                test_data = getattr(data, f\"{config['dataset']}_test_data\")(f\"/mnt/ssd/data/{config['dataset']}\")\n",
    "            data_loader  = torch.utils.data.DataLoader(test_data, \n",
    "                                                       batch_size=batch_size, \n",
    "                                                       shuffle=True, \n",
    "                                                       num_workers=4, \n",
    "                                                       pin_memory=True, \n",
    "                                                       drop_last=True)\n",
    "\n",
    "            classifier = Classifier(img_dims=img_dims,\n",
    "                                    n_classes=n_classes,\n",
    "                                    depth=config[\"depth\"],\n",
    "                                    dropout=config[\"dropout\"],\n",
    "                                    dp_sgd=dp_sgd if epsilon != \"no_dp\" else False).cuda()\n",
    "            checkpoint = torch.load(f\"{cls_path}/{ts}/checkpoint.pt\")\n",
    "            try:\n",
    "                classifier.load_state_dict(checkpoint)\n",
    "            except RuntimeError:\n",
    "                classifier.load_state_dict({'.'.join(key.split('.')[1:]): value for key, value in checkpoint.items()})\n",
    "\n",
    "            accs, _vars = [], []\n",
    "            uncerts = []\n",
    "            with torch.no_grad():\n",
    "                for x, y in tqdm(data_loader, leave=False):\n",
    "                    x, y = x.cuda(), y.cuda()\n",
    "                    mc_preds = torch.cat([torch.softmax(classifier(x), dim=-1)[None] for _ in range(mc_iter)], dim=0)\n",
    "                    uncert, ale, epi = calc_uncert(mc_preds)\n",
    "                    uncerts.append(uncert)\n",
    "                    pred = mc_preds.mean(dim=0)\n",
    "                    acc = (torch.argmax(pred, dim=1) == y).sum() / y.size(0)\n",
    "                    accs.append(acc.cpu().item())\n",
    "                    _vars.append(mc_preds.var(dim=0))\n",
    "            mean_accs_pe.append(np.mean(accs))\n",
    "\n",
    "            uncerts = torch.cat(uncerts, dim=0)\n",
    "            u_per_class = uncerts.mean(dim=0)\n",
    "            uncerts_per_class_pe.append(u_per_class.cpu().tolist())\n",
    "        mean_accs.append(mean_accs_pe)\n",
    "        uncerts_per_class.append(uncerts_per_class_pe)\n",
    "    \n",
    "    return np.array(mean_accs), np.array(uncerts_per_class)"
   ]
  },
  {
   "cell_type": "code",
   "execution_count": 3,
   "id": "61e49dc1-3b61-424a-b683-d3e481a0699f",
   "metadata": {},
   "outputs": [
    {
     "data": {
      "application/vnd.jupyter.widget-view+json": {
       "model_id": "5c8d4008a2b14e7fbf7193728e4b48fe",
       "version_major": 2,
       "version_minor": 0
      },
      "text/plain": [
       "epsilons:   0%|          | 0/7 [00:00<?, ?it/s]"
      ]
     },
     "metadata": {},
     "output_type": "display_data"
    },
    {
     "data": {
      "application/vnd.jupyter.widget-view+json": {
       "model_id": "",
       "version_major": 2,
       "version_minor": 0
      },
      "text/plain": [
       "timestamps:   0%|          | 0/1 [00:00<?, ?it/s]"
      ]
     },
     "metadata": {},
     "output_type": "display_data"
    },
    {
     "data": {
      "application/vnd.jupyter.widget-view+json": {
       "model_id": "",
       "version_major": 2,
       "version_minor": 0
      },
      "text/plain": [
       "  0%|          | 0/19 [00:00<?, ?it/s]"
      ]
     },
     "metadata": {},
     "output_type": "display_data"
    },
    {
     "data": {
      "application/vnd.jupyter.widget-view+json": {
       "model_id": "",
       "version_major": 2,
       "version_minor": 0
      },
      "text/plain": [
       "timestamps:   0%|          | 0/1 [00:00<?, ?it/s]"
      ]
     },
     "metadata": {},
     "output_type": "display_data"
    },
    {
     "data": {
      "application/vnd.jupyter.widget-view+json": {
       "model_id": "",
       "version_major": 2,
       "version_minor": 0
      },
      "text/plain": [
       "  0%|          | 0/19 [00:00<?, ?it/s]"
      ]
     },
     "metadata": {},
     "output_type": "display_data"
    },
    {
     "data": {
      "application/vnd.jupyter.widget-view+json": {
       "model_id": "",
       "version_major": 2,
       "version_minor": 0
      },
      "text/plain": [
       "timestamps:   0%|          | 0/1 [00:00<?, ?it/s]"
      ]
     },
     "metadata": {},
     "output_type": "display_data"
    },
    {
     "data": {
      "application/vnd.jupyter.widget-view+json": {
       "model_id": "",
       "version_major": 2,
       "version_minor": 0
      },
      "text/plain": [
       "  0%|          | 0/19 [00:00<?, ?it/s]"
      ]
     },
     "metadata": {},
     "output_type": "display_data"
    },
    {
     "data": {
      "application/vnd.jupyter.widget-view+json": {
       "model_id": "",
       "version_major": 2,
       "version_minor": 0
      },
      "text/plain": [
       "timestamps:   0%|          | 0/1 [00:00<?, ?it/s]"
      ]
     },
     "metadata": {},
     "output_type": "display_data"
    },
    {
     "data": {
      "application/vnd.jupyter.widget-view+json": {
       "model_id": "",
       "version_major": 2,
       "version_minor": 0
      },
      "text/plain": [
       "  0%|          | 0/19 [00:00<?, ?it/s]"
      ]
     },
     "metadata": {},
     "output_type": "display_data"
    },
    {
     "data": {
      "application/vnd.jupyter.widget-view+json": {
       "model_id": "",
       "version_major": 2,
       "version_minor": 0
      },
      "text/plain": [
       "timestamps:   0%|          | 0/1 [00:00<?, ?it/s]"
      ]
     },
     "metadata": {},
     "output_type": "display_data"
    },
    {
     "data": {
      "application/vnd.jupyter.widget-view+json": {
       "model_id": "",
       "version_major": 2,
       "version_minor": 0
      },
      "text/plain": [
       "  0%|          | 0/19 [00:00<?, ?it/s]"
      ]
     },
     "metadata": {},
     "output_type": "display_data"
    },
    {
     "data": {
      "application/vnd.jupyter.widget-view+json": {
       "model_id": "",
       "version_major": 2,
       "version_minor": 0
      },
      "text/plain": [
       "timestamps:   0%|          | 0/1 [00:00<?, ?it/s]"
      ]
     },
     "metadata": {},
     "output_type": "display_data"
    },
    {
     "data": {
      "application/vnd.jupyter.widget-view+json": {
       "model_id": "",
       "version_major": 2,
       "version_minor": 0
      },
      "text/plain": [
       "  0%|          | 0/19 [00:00<?, ?it/s]"
      ]
     },
     "metadata": {},
     "output_type": "display_data"
    },
    {
     "data": {
      "application/vnd.jupyter.widget-view+json": {
       "model_id": "",
       "version_major": 2,
       "version_minor": 0
      },
      "text/plain": [
       "timestamps:   0%|          | 0/1 [00:00<?, ?it/s]"
      ]
     },
     "metadata": {},
     "output_type": "display_data"
    },
    {
     "data": {
      "application/vnd.jupyter.widget-view+json": {
       "model_id": "",
       "version_major": 2,
       "version_minor": 0
      },
      "text/plain": [
       "  0%|          | 0/19 [00:00<?, ?it/s]"
      ]
     },
     "metadata": {},
     "output_type": "display_data"
    }
   ],
   "source": [
    "mean_accs_mnist, uncert_per_class_mnist = eval_classifier(\"mnist_conv_cond\", mc_iter=5, data_type=\"dp\", data_path=\"/mnt/ssd/data/priv_mnist_test\")"
   ]
  },
  {
   "cell_type": "code",
   "execution_count": 4,
   "id": "5fa42a66-6dc5-4f97-b258-509f987deb13",
   "metadata": {
    "tags": []
   },
   "outputs": [
    {
     "data": {
      "application/vnd.jupyter.widget-view+json": {
       "model_id": "bff76d437c384999ad9845e9e7e47f6b",
       "version_major": 2,
       "version_minor": 0
      },
      "text/plain": [
       "epsilons:   0%|          | 0/7 [00:00<?, ?it/s]"
      ]
     },
     "metadata": {},
     "output_type": "display_data"
    },
    {
     "data": {
      "application/vnd.jupyter.widget-view+json": {
       "model_id": "",
       "version_major": 2,
       "version_minor": 0
      },
      "text/plain": [
       "timestamps:   0%|          | 0/1 [00:00<?, ?it/s]"
      ]
     },
     "metadata": {},
     "output_type": "display_data"
    },
    {
     "data": {
      "application/vnd.jupyter.widget-view+json": {
       "model_id": "",
       "version_major": 2,
       "version_minor": 0
      },
      "text/plain": [
       "  0%|          | 0/9 [00:00<?, ?it/s]"
      ]
     },
     "metadata": {},
     "output_type": "display_data"
    },
    {
     "data": {
      "application/vnd.jupyter.widget-view+json": {
       "model_id": "",
       "version_major": 2,
       "version_minor": 0
      },
      "text/plain": [
       "timestamps:   0%|          | 0/1 [00:00<?, ?it/s]"
      ]
     },
     "metadata": {},
     "output_type": "display_data"
    },
    {
     "data": {
      "application/vnd.jupyter.widget-view+json": {
       "model_id": "",
       "version_major": 2,
       "version_minor": 0
      },
      "text/plain": [
       "  0%|          | 0/9 [00:00<?, ?it/s]"
      ]
     },
     "metadata": {},
     "output_type": "display_data"
    },
    {
     "data": {
      "application/vnd.jupyter.widget-view+json": {
       "model_id": "",
       "version_major": 2,
       "version_minor": 0
      },
      "text/plain": [
       "timestamps:   0%|          | 0/1 [00:00<?, ?it/s]"
      ]
     },
     "metadata": {},
     "output_type": "display_data"
    },
    {
     "data": {
      "application/vnd.jupyter.widget-view+json": {
       "model_id": "",
       "version_major": 2,
       "version_minor": 0
      },
      "text/plain": [
       "  0%|          | 0/9 [00:00<?, ?it/s]"
      ]
     },
     "metadata": {},
     "output_type": "display_data"
    },
    {
     "data": {
      "application/vnd.jupyter.widget-view+json": {
       "model_id": "",
       "version_major": 2,
       "version_minor": 0
      },
      "text/plain": [
       "timestamps:   0%|          | 0/1 [00:00<?, ?it/s]"
      ]
     },
     "metadata": {},
     "output_type": "display_data"
    },
    {
     "data": {
      "application/vnd.jupyter.widget-view+json": {
       "model_id": "",
       "version_major": 2,
       "version_minor": 0
      },
      "text/plain": [
       "  0%|          | 0/9 [00:00<?, ?it/s]"
      ]
     },
     "metadata": {},
     "output_type": "display_data"
    },
    {
     "data": {
      "application/vnd.jupyter.widget-view+json": {
       "model_id": "",
       "version_major": 2,
       "version_minor": 0
      },
      "text/plain": [
       "timestamps:   0%|          | 0/1 [00:00<?, ?it/s]"
      ]
     },
     "metadata": {},
     "output_type": "display_data"
    },
    {
     "data": {
      "application/vnd.jupyter.widget-view+json": {
       "model_id": "",
       "version_major": 2,
       "version_minor": 0
      },
      "text/plain": [
       "  0%|          | 0/9 [00:00<?, ?it/s]"
      ]
     },
     "metadata": {},
     "output_type": "display_data"
    },
    {
     "data": {
      "application/vnd.jupyter.widget-view+json": {
       "model_id": "",
       "version_major": 2,
       "version_minor": 0
      },
      "text/plain": [
       "timestamps:   0%|          | 0/1 [00:00<?, ?it/s]"
      ]
     },
     "metadata": {},
     "output_type": "display_data"
    },
    {
     "data": {
      "application/vnd.jupyter.widget-view+json": {
       "model_id": "",
       "version_major": 2,
       "version_minor": 0
      },
      "text/plain": [
       "  0%|          | 0/9 [00:00<?, ?it/s]"
      ]
     },
     "metadata": {},
     "output_type": "display_data"
    },
    {
     "data": {
      "application/vnd.jupyter.widget-view+json": {
       "model_id": "",
       "version_major": 2,
       "version_minor": 0
      },
      "text/plain": [
       "timestamps:   0%|          | 0/1 [00:00<?, ?it/s]"
      ]
     },
     "metadata": {},
     "output_type": "display_data"
    },
    {
     "data": {
      "application/vnd.jupyter.widget-view+json": {
       "model_id": "",
       "version_major": 2,
       "version_minor": 0
      },
      "text/plain": [
       "  0%|          | 0/9 [00:00<?, ?it/s]"
      ]
     },
     "metadata": {},
     "output_type": "display_data"
    }
   ],
   "source": [
    "mean_accs_chest_xray, uncert_per_class_chest_xray = eval_classifier(\"chest_xray_conv_cond\", mc_iter=5, data_type=\"dp\", data_path=\"/mnt/ssd/data/priv_chest_xray_test\")"
   ]
  },
  {
   "cell_type": "code",
   "execution_count": 5,
   "id": "82527590-6462-437d-80b0-6b480b14b052",
   "metadata": {
    "tags": []
   },
   "outputs": [
    {
     "data": {
      "application/vnd.jupyter.widget-view+json": {
       "model_id": "61cde16e5f1e4359a3e15aaf7d5d4ab3",
       "version_major": 2,
       "version_minor": 0
      },
      "text/plain": [
       "epsilons:   0%|          | 0/7 [00:00<?, ?it/s]"
      ]
     },
     "metadata": {},
     "output_type": "display_data"
    },
    {
     "data": {
      "application/vnd.jupyter.widget-view+json": {
       "model_id": "",
       "version_major": 2,
       "version_minor": 0
      },
      "text/plain": [
       "timestamps:   0%|          | 0/1 [00:00<?, ?it/s]"
      ]
     },
     "metadata": {},
     "output_type": "display_data"
    },
    {
     "data": {
      "application/vnd.jupyter.widget-view+json": {
       "model_id": "",
       "version_major": 2,
       "version_minor": 0
      },
      "text/plain": [
       "  0%|          | 0/15 [00:00<?, ?it/s]"
      ]
     },
     "metadata": {},
     "output_type": "display_data"
    },
    {
     "data": {
      "application/vnd.jupyter.widget-view+json": {
       "model_id": "",
       "version_major": 2,
       "version_minor": 0
      },
      "text/plain": [
       "timestamps:   0%|          | 0/1 [00:00<?, ?it/s]"
      ]
     },
     "metadata": {},
     "output_type": "display_data"
    },
    {
     "data": {
      "application/vnd.jupyter.widget-view+json": {
       "model_id": "",
       "version_major": 2,
       "version_minor": 0
      },
      "text/plain": [
       "  0%|          | 0/15 [00:00<?, ?it/s]"
      ]
     },
     "metadata": {},
     "output_type": "display_data"
    },
    {
     "data": {
      "application/vnd.jupyter.widget-view+json": {
       "model_id": "",
       "version_major": 2,
       "version_minor": 0
      },
      "text/plain": [
       "timestamps:   0%|          | 0/1 [00:00<?, ?it/s]"
      ]
     },
     "metadata": {},
     "output_type": "display_data"
    },
    {
     "data": {
      "application/vnd.jupyter.widget-view+json": {
       "model_id": "",
       "version_major": 2,
       "version_minor": 0
      },
      "text/plain": [
       "  0%|          | 0/15 [00:00<?, ?it/s]"
      ]
     },
     "metadata": {},
     "output_type": "display_data"
    },
    {
     "data": {
      "application/vnd.jupyter.widget-view+json": {
       "model_id": "",
       "version_major": 2,
       "version_minor": 0
      },
      "text/plain": [
       "timestamps:   0%|          | 0/1 [00:00<?, ?it/s]"
      ]
     },
     "metadata": {},
     "output_type": "display_data"
    },
    {
     "data": {
      "application/vnd.jupyter.widget-view+json": {
       "model_id": "",
       "version_major": 2,
       "version_minor": 0
      },
      "text/plain": [
       "  0%|          | 0/15 [00:00<?, ?it/s]"
      ]
     },
     "metadata": {},
     "output_type": "display_data"
    },
    {
     "data": {
      "application/vnd.jupyter.widget-view+json": {
       "model_id": "",
       "version_major": 2,
       "version_minor": 0
      },
      "text/plain": [
       "timestamps:   0%|          | 0/1 [00:00<?, ?it/s]"
      ]
     },
     "metadata": {},
     "output_type": "display_data"
    },
    {
     "data": {
      "application/vnd.jupyter.widget-view+json": {
       "model_id": "",
       "version_major": 2,
       "version_minor": 0
      },
      "text/plain": [
       "  0%|          | 0/15 [00:00<?, ?it/s]"
      ]
     },
     "metadata": {},
     "output_type": "display_data"
    },
    {
     "data": {
      "application/vnd.jupyter.widget-view+json": {
       "model_id": "",
       "version_major": 2,
       "version_minor": 0
      },
      "text/plain": [
       "timestamps:   0%|          | 0/1 [00:00<?, ?it/s]"
      ]
     },
     "metadata": {},
     "output_type": "display_data"
    },
    {
     "data": {
      "application/vnd.jupyter.widget-view+json": {
       "model_id": "",
       "version_major": 2,
       "version_minor": 0
      },
      "text/plain": [
       "  0%|          | 0/15 [00:00<?, ?it/s]"
      ]
     },
     "metadata": {},
     "output_type": "display_data"
    },
    {
     "data": {
      "application/vnd.jupyter.widget-view+json": {
       "model_id": "",
       "version_major": 2,
       "version_minor": 0
      },
      "text/plain": [
       "timestamps:   0%|          | 0/1 [00:00<?, ?it/s]"
      ]
     },
     "metadata": {},
     "output_type": "display_data"
    },
    {
     "data": {
      "application/vnd.jupyter.widget-view+json": {
       "model_id": "",
       "version_major": 2,
       "version_minor": 0
      },
      "text/plain": [
       "  0%|          | 0/15 [00:00<?, ?it/s]"
      ]
     },
     "metadata": {},
     "output_type": "display_data"
    }
   ],
   "source": [
    "mean_accs_oct, uncert_per_class_oct = eval_classifier(\"oct_conv_cond\", mc_iter=5, data_type=\"dp\", data_path=\"/mnt/ssd/data/priv_oct_test\")"
   ]
  },
  {
   "cell_type": "raw",
   "id": "e97402a6-a232-4292-8dc6-2c97f74be8d3",
   "metadata": {},
   "source": [
    "import seaborn as sns\n",
    "sns.set()\n",
    "cp = sns.color_palette()\n",
    "\n",
    "epsilons = [0.5, 0.8, 1.0, 2.0, 3.0, 6.0]\n",
    "\n",
    "fig, ax = plt.subplots()\n",
    "\n",
    "mean_accs = [mean_accs_mnist, mean_accs_oct, mean_accs_chest_xray] #  \n",
    "for i, (accs, ds) in enumerate(zip(mean_accs, [\"mnist\", \"oct\", \"chest xray\"])): #  \n",
    "    ax.plot([0, 6.0], [np.mean(accs[0]), np.mean(accs[0])], c=cp[i], linestyle='--')\n",
    "    ax.plot(epsilons, np.mean(accs[1:], axis=1), c=cp[i], linestyle='-', marker='x', label=ds)\n",
    "ax.legend(fontsize=15, loc=\"lower right\")\n",
    "ax.set_ylabel(\"Accuracy\", fontsize=15)\n",
    "ax.set_xlabel(r\"$\\epsilon$\", fontsize=20)\n",
    "ax.set_ylim([0.25, 1.01])\n",
    "# ax.set_aspect(5)\n",
    "fig.tight_layout()\n",
    "fig.savefig(\"./experiments/classifier_dp.pdf\", bbox_inches=\"tight\")"
   ]
  },
  {
   "cell_type": "raw",
   "id": "0a7162b2-b134-42f8-a593-dd157bd074d1",
   "metadata": {},
   "source": [
    "\"%.2f ± %.2f\" % (np.mean(mean_accs) * 100, np.std(mean_accs) * 100)"
   ]
  },
  {
   "cell_type": "code",
   "execution_count": 6,
   "id": "f97481d7-f82a-4f01-8be1-8db422e91824",
   "metadata": {},
   "outputs": [
    {
     "data": {
      "application/vnd.jupyter.widget-view+json": {
       "model_id": "6ce63ab7d25847e98c64ef17c927485a",
       "version_major": 2,
       "version_minor": 0
      },
      "text/plain": [
       "epsilons:   0%|          | 0/7 [00:00<?, ?it/s]"
      ]
     },
     "metadata": {},
     "output_type": "display_data"
    },
    {
     "data": {
      "application/vnd.jupyter.widget-view+json": {
       "model_id": "",
       "version_major": 2,
       "version_minor": 0
      },
      "text/plain": [
       "timestamps:   0%|          | 0/1 [00:00<?, ?it/s]"
      ]
     },
     "metadata": {},
     "output_type": "display_data"
    },
    {
     "data": {
      "application/vnd.jupyter.widget-view+json": {
       "model_id": "",
       "version_major": 2,
       "version_minor": 0
      },
      "text/plain": [
       "  0%|          | 0/19 [00:00<?, ?it/s]"
      ]
     },
     "metadata": {},
     "output_type": "display_data"
    },
    {
     "data": {
      "application/vnd.jupyter.widget-view+json": {
       "model_id": "",
       "version_major": 2,
       "version_minor": 0
      },
      "text/plain": [
       "timestamps:   0%|          | 0/1 [00:00<?, ?it/s]"
      ]
     },
     "metadata": {},
     "output_type": "display_data"
    },
    {
     "data": {
      "application/vnd.jupyter.widget-view+json": {
       "model_id": "",
       "version_major": 2,
       "version_minor": 0
      },
      "text/plain": [
       "  0%|          | 0/19 [00:00<?, ?it/s]"
      ]
     },
     "metadata": {},
     "output_type": "display_data"
    },
    {
     "data": {
      "application/vnd.jupyter.widget-view+json": {
       "model_id": "",
       "version_major": 2,
       "version_minor": 0
      },
      "text/plain": [
       "timestamps:   0%|          | 0/1 [00:00<?, ?it/s]"
      ]
     },
     "metadata": {},
     "output_type": "display_data"
    },
    {
     "data": {
      "application/vnd.jupyter.widget-view+json": {
       "model_id": "",
       "version_major": 2,
       "version_minor": 0
      },
      "text/plain": [
       "  0%|          | 0/19 [00:00<?, ?it/s]"
      ]
     },
     "metadata": {},
     "output_type": "display_data"
    },
    {
     "data": {
      "application/vnd.jupyter.widget-view+json": {
       "model_id": "",
       "version_major": 2,
       "version_minor": 0
      },
      "text/plain": [
       "timestamps:   0%|          | 0/1 [00:00<?, ?it/s]"
      ]
     },
     "metadata": {},
     "output_type": "display_data"
    },
    {
     "data": {
      "application/vnd.jupyter.widget-view+json": {
       "model_id": "",
       "version_major": 2,
       "version_minor": 0
      },
      "text/plain": [
       "  0%|          | 0/19 [00:00<?, ?it/s]"
      ]
     },
     "metadata": {},
     "output_type": "display_data"
    },
    {
     "data": {
      "application/vnd.jupyter.widget-view+json": {
       "model_id": "",
       "version_major": 2,
       "version_minor": 0
      },
      "text/plain": [
       "timestamps:   0%|          | 0/1 [00:00<?, ?it/s]"
      ]
     },
     "metadata": {},
     "output_type": "display_data"
    },
    {
     "data": {
      "application/vnd.jupyter.widget-view+json": {
       "model_id": "",
       "version_major": 2,
       "version_minor": 0
      },
      "text/plain": [
       "  0%|          | 0/19 [00:00<?, ?it/s]"
      ]
     },
     "metadata": {},
     "output_type": "display_data"
    },
    {
     "data": {
      "application/vnd.jupyter.widget-view+json": {
       "model_id": "",
       "version_major": 2,
       "version_minor": 0
      },
      "text/plain": [
       "timestamps:   0%|          | 0/1 [00:00<?, ?it/s]"
      ]
     },
     "metadata": {},
     "output_type": "display_data"
    },
    {
     "data": {
      "application/vnd.jupyter.widget-view+json": {
       "model_id": "",
       "version_major": 2,
       "version_minor": 0
      },
      "text/plain": [
       "  0%|          | 0/19 [00:00<?, ?it/s]"
      ]
     },
     "metadata": {},
     "output_type": "display_data"
    },
    {
     "data": {
      "application/vnd.jupyter.widget-view+json": {
       "model_id": "",
       "version_major": 2,
       "version_minor": 0
      },
      "text/plain": [
       "timestamps:   0%|          | 0/1 [00:00<?, ?it/s]"
      ]
     },
     "metadata": {},
     "output_type": "display_data"
    },
    {
     "data": {
      "application/vnd.jupyter.widget-view+json": {
       "model_id": "",
       "version_major": 2,
       "version_minor": 0
      },
      "text/plain": [
       "  0%|          | 0/19 [00:00<?, ?it/s]"
      ]
     },
     "metadata": {},
     "output_type": "display_data"
    }
   ],
   "source": [
    "mean_accs_mnist_gt, uncert_per_class_mnist_gt = eval_classifier(\"mnist_conv_cond\")"
   ]
  },
  {
   "cell_type": "code",
   "execution_count": 7,
   "id": "7ffa83d6-9fa5-4931-b2e0-9d4f8505be7a",
   "metadata": {
    "tags": []
   },
   "outputs": [
    {
     "data": {
      "application/vnd.jupyter.widget-view+json": {
       "model_id": "45c1edbfc9954c6ba6350676222d10e0",
       "version_major": 2,
       "version_minor": 0
      },
      "text/plain": [
       "epsilons:   0%|          | 0/7 [00:00<?, ?it/s]"
      ]
     },
     "metadata": {},
     "output_type": "display_data"
    },
    {
     "data": {
      "application/vnd.jupyter.widget-view+json": {
       "model_id": "",
       "version_major": 2,
       "version_minor": 0
      },
      "text/plain": [
       "timestamps:   0%|          | 0/1 [00:00<?, ?it/s]"
      ]
     },
     "metadata": {},
     "output_type": "display_data"
    },
    {
     "data": {
      "application/vnd.jupyter.widget-view+json": {
       "model_id": "",
       "version_major": 2,
       "version_minor": 0
      },
      "text/plain": [
       "  0%|          | 0/9 [00:00<?, ?it/s]"
      ]
     },
     "metadata": {},
     "output_type": "display_data"
    },
    {
     "data": {
      "application/vnd.jupyter.widget-view+json": {
       "model_id": "",
       "version_major": 2,
       "version_minor": 0
      },
      "text/plain": [
       "timestamps:   0%|          | 0/1 [00:00<?, ?it/s]"
      ]
     },
     "metadata": {},
     "output_type": "display_data"
    },
    {
     "data": {
      "application/vnd.jupyter.widget-view+json": {
       "model_id": "",
       "version_major": 2,
       "version_minor": 0
      },
      "text/plain": [
       "  0%|          | 0/9 [00:00<?, ?it/s]"
      ]
     },
     "metadata": {},
     "output_type": "display_data"
    },
    {
     "data": {
      "application/vnd.jupyter.widget-view+json": {
       "model_id": "",
       "version_major": 2,
       "version_minor": 0
      },
      "text/plain": [
       "timestamps:   0%|          | 0/1 [00:00<?, ?it/s]"
      ]
     },
     "metadata": {},
     "output_type": "display_data"
    },
    {
     "data": {
      "application/vnd.jupyter.widget-view+json": {
       "model_id": "",
       "version_major": 2,
       "version_minor": 0
      },
      "text/plain": [
       "  0%|          | 0/9 [00:00<?, ?it/s]"
      ]
     },
     "metadata": {},
     "output_type": "display_data"
    },
    {
     "data": {
      "application/vnd.jupyter.widget-view+json": {
       "model_id": "",
       "version_major": 2,
       "version_minor": 0
      },
      "text/plain": [
       "timestamps:   0%|          | 0/1 [00:00<?, ?it/s]"
      ]
     },
     "metadata": {},
     "output_type": "display_data"
    },
    {
     "data": {
      "application/vnd.jupyter.widget-view+json": {
       "model_id": "",
       "version_major": 2,
       "version_minor": 0
      },
      "text/plain": [
       "  0%|          | 0/9 [00:00<?, ?it/s]"
      ]
     },
     "metadata": {},
     "output_type": "display_data"
    },
    {
     "data": {
      "application/vnd.jupyter.widget-view+json": {
       "model_id": "",
       "version_major": 2,
       "version_minor": 0
      },
      "text/plain": [
       "timestamps:   0%|          | 0/1 [00:00<?, ?it/s]"
      ]
     },
     "metadata": {},
     "output_type": "display_data"
    },
    {
     "data": {
      "application/vnd.jupyter.widget-view+json": {
       "model_id": "",
       "version_major": 2,
       "version_minor": 0
      },
      "text/plain": [
       "  0%|          | 0/9 [00:00<?, ?it/s]"
      ]
     },
     "metadata": {},
     "output_type": "display_data"
    },
    {
     "data": {
      "application/vnd.jupyter.widget-view+json": {
       "model_id": "",
       "version_major": 2,
       "version_minor": 0
      },
      "text/plain": [
       "timestamps:   0%|          | 0/1 [00:00<?, ?it/s]"
      ]
     },
     "metadata": {},
     "output_type": "display_data"
    },
    {
     "data": {
      "application/vnd.jupyter.widget-view+json": {
       "model_id": "",
       "version_major": 2,
       "version_minor": 0
      },
      "text/plain": [
       "  0%|          | 0/9 [00:00<?, ?it/s]"
      ]
     },
     "metadata": {},
     "output_type": "display_data"
    },
    {
     "data": {
      "application/vnd.jupyter.widget-view+json": {
       "model_id": "",
       "version_major": 2,
       "version_minor": 0
      },
      "text/plain": [
       "timestamps:   0%|          | 0/1 [00:00<?, ?it/s]"
      ]
     },
     "metadata": {},
     "output_type": "display_data"
    },
    {
     "data": {
      "application/vnd.jupyter.widget-view+json": {
       "model_id": "",
       "version_major": 2,
       "version_minor": 0
      },
      "text/plain": [
       "  0%|          | 0/9 [00:00<?, ?it/s]"
      ]
     },
     "metadata": {},
     "output_type": "display_data"
    }
   ],
   "source": [
    "mean_accs_chest_xray_gt, uncert_per_class_chest_xray_gt = eval_classifier(\"chest_xray_conv_cond\", mc_iter=5)"
   ]
  },
  {
   "cell_type": "code",
   "execution_count": 8,
   "id": "77600b41-7b46-42e7-9502-6eac5182fe89",
   "metadata": {
    "tags": []
   },
   "outputs": [
    {
     "data": {
      "application/vnd.jupyter.widget-view+json": {
       "model_id": "9844b3ff2695407b9f281a82d5479ce7",
       "version_major": 2,
       "version_minor": 0
      },
      "text/plain": [
       "epsilons:   0%|          | 0/7 [00:00<?, ?it/s]"
      ]
     },
     "metadata": {},
     "output_type": "display_data"
    },
    {
     "data": {
      "application/vnd.jupyter.widget-view+json": {
       "model_id": "",
       "version_major": 2,
       "version_minor": 0
      },
      "text/plain": [
       "timestamps:   0%|          | 0/1 [00:00<?, ?it/s]"
      ]
     },
     "metadata": {},
     "output_type": "display_data"
    },
    {
     "data": {
      "application/vnd.jupyter.widget-view+json": {
       "model_id": "",
       "version_major": 2,
       "version_minor": 0
      },
      "text/plain": [
       "  0%|          | 0/15 [00:00<?, ?it/s]"
      ]
     },
     "metadata": {},
     "output_type": "display_data"
    },
    {
     "data": {
      "application/vnd.jupyter.widget-view+json": {
       "model_id": "",
       "version_major": 2,
       "version_minor": 0
      },
      "text/plain": [
       "timestamps:   0%|          | 0/1 [00:00<?, ?it/s]"
      ]
     },
     "metadata": {},
     "output_type": "display_data"
    },
    {
     "data": {
      "application/vnd.jupyter.widget-view+json": {
       "model_id": "",
       "version_major": 2,
       "version_minor": 0
      },
      "text/plain": [
       "  0%|          | 0/15 [00:00<?, ?it/s]"
      ]
     },
     "metadata": {},
     "output_type": "display_data"
    },
    {
     "data": {
      "application/vnd.jupyter.widget-view+json": {
       "model_id": "",
       "version_major": 2,
       "version_minor": 0
      },
      "text/plain": [
       "timestamps:   0%|          | 0/1 [00:00<?, ?it/s]"
      ]
     },
     "metadata": {},
     "output_type": "display_data"
    },
    {
     "data": {
      "application/vnd.jupyter.widget-view+json": {
       "model_id": "",
       "version_major": 2,
       "version_minor": 0
      },
      "text/plain": [
       "  0%|          | 0/15 [00:00<?, ?it/s]"
      ]
     },
     "metadata": {},
     "output_type": "display_data"
    },
    {
     "data": {
      "application/vnd.jupyter.widget-view+json": {
       "model_id": "",
       "version_major": 2,
       "version_minor": 0
      },
      "text/plain": [
       "timestamps:   0%|          | 0/1 [00:00<?, ?it/s]"
      ]
     },
     "metadata": {},
     "output_type": "display_data"
    },
    {
     "data": {
      "application/vnd.jupyter.widget-view+json": {
       "model_id": "",
       "version_major": 2,
       "version_minor": 0
      },
      "text/plain": [
       "  0%|          | 0/15 [00:00<?, ?it/s]"
      ]
     },
     "metadata": {},
     "output_type": "display_data"
    },
    {
     "data": {
      "application/vnd.jupyter.widget-view+json": {
       "model_id": "",
       "version_major": 2,
       "version_minor": 0
      },
      "text/plain": [
       "timestamps:   0%|          | 0/1 [00:00<?, ?it/s]"
      ]
     },
     "metadata": {},
     "output_type": "display_data"
    },
    {
     "data": {
      "application/vnd.jupyter.widget-view+json": {
       "model_id": "",
       "version_major": 2,
       "version_minor": 0
      },
      "text/plain": [
       "  0%|          | 0/15 [00:00<?, ?it/s]"
      ]
     },
     "metadata": {},
     "output_type": "display_data"
    },
    {
     "data": {
      "application/vnd.jupyter.widget-view+json": {
       "model_id": "",
       "version_major": 2,
       "version_minor": 0
      },
      "text/plain": [
       "timestamps:   0%|          | 0/1 [00:00<?, ?it/s]"
      ]
     },
     "metadata": {},
     "output_type": "display_data"
    },
    {
     "data": {
      "application/vnd.jupyter.widget-view+json": {
       "model_id": "",
       "version_major": 2,
       "version_minor": 0
      },
      "text/plain": [
       "  0%|          | 0/15 [00:00<?, ?it/s]"
      ]
     },
     "metadata": {},
     "output_type": "display_data"
    },
    {
     "data": {
      "application/vnd.jupyter.widget-view+json": {
       "model_id": "",
       "version_major": 2,
       "version_minor": 0
      },
      "text/plain": [
       "timestamps:   0%|          | 0/1 [00:00<?, ?it/s]"
      ]
     },
     "metadata": {},
     "output_type": "display_data"
    },
    {
     "data": {
      "application/vnd.jupyter.widget-view+json": {
       "model_id": "",
       "version_major": 2,
       "version_minor": 0
      },
      "text/plain": [
       "  0%|          | 0/15 [00:00<?, ?it/s]"
      ]
     },
     "metadata": {},
     "output_type": "display_data"
    }
   ],
   "source": [
    "mean_accs_oct_gt, uncert_per_class_oct_gt = eval_classifier(\"oct_conv_cond\", mc_iter=5)"
   ]
  },
  {
   "cell_type": "code",
   "execution_count": 9,
   "id": "b33f852b-fab8-4792-9d33-7f01c365faa0",
   "metadata": {
    "tags": []
   },
   "outputs": [
    {
     "data": {
      "application/vnd.jupyter.widget-view+json": {
       "model_id": "5ee4d39b89044536952a7c87f129b705",
       "version_major": 2,
       "version_minor": 0
      },
      "text/plain": [
       "epsilons:   0%|          | 0/7 [00:00<?, ?it/s]"
      ]
     },
     "metadata": {},
     "output_type": "display_data"
    },
    {
     "data": {
      "application/vnd.jupyter.widget-view+json": {
       "model_id": "",
       "version_major": 2,
       "version_minor": 0
      },
      "text/plain": [
       "timestamps:   0%|          | 0/1 [00:00<?, ?it/s]"
      ]
     },
     "metadata": {},
     "output_type": "display_data"
    },
    {
     "data": {
      "application/vnd.jupyter.widget-view+json": {
       "model_id": "",
       "version_major": 2,
       "version_minor": 0
      },
      "text/plain": [
       "  0%|          | 0/19 [00:00<?, ?it/s]"
      ]
     },
     "metadata": {},
     "output_type": "display_data"
    },
    {
     "data": {
      "application/vnd.jupyter.widget-view+json": {
       "model_id": "",
       "version_major": 2,
       "version_minor": 0
      },
      "text/plain": [
       "timestamps:   0%|          | 0/1 [00:00<?, ?it/s]"
      ]
     },
     "metadata": {},
     "output_type": "display_data"
    },
    {
     "data": {
      "application/vnd.jupyter.widget-view+json": {
       "model_id": "",
       "version_major": 2,
       "version_minor": 0
      },
      "text/plain": [
       "  0%|          | 0/19 [00:00<?, ?it/s]"
      ]
     },
     "metadata": {},
     "output_type": "display_data"
    },
    {
     "data": {
      "application/vnd.jupyter.widget-view+json": {
       "model_id": "",
       "version_major": 2,
       "version_minor": 0
      },
      "text/plain": [
       "timestamps:   0%|          | 0/1 [00:00<?, ?it/s]"
      ]
     },
     "metadata": {},
     "output_type": "display_data"
    },
    {
     "data": {
      "application/vnd.jupyter.widget-view+json": {
       "model_id": "",
       "version_major": 2,
       "version_minor": 0
      },
      "text/plain": [
       "  0%|          | 0/19 [00:00<?, ?it/s]"
      ]
     },
     "metadata": {},
     "output_type": "display_data"
    },
    {
     "data": {
      "application/vnd.jupyter.widget-view+json": {
       "model_id": "",
       "version_major": 2,
       "version_minor": 0
      },
      "text/plain": [
       "timestamps:   0%|          | 0/1 [00:00<?, ?it/s]"
      ]
     },
     "metadata": {},
     "output_type": "display_data"
    },
    {
     "data": {
      "application/vnd.jupyter.widget-view+json": {
       "model_id": "",
       "version_major": 2,
       "version_minor": 0
      },
      "text/plain": [
       "  0%|          | 0/19 [00:00<?, ?it/s]"
      ]
     },
     "metadata": {},
     "output_type": "display_data"
    },
    {
     "data": {
      "application/vnd.jupyter.widget-view+json": {
       "model_id": "",
       "version_major": 2,
       "version_minor": 0
      },
      "text/plain": [
       "timestamps:   0%|          | 0/1 [00:00<?, ?it/s]"
      ]
     },
     "metadata": {},
     "output_type": "display_data"
    },
    {
     "data": {
      "application/vnd.jupyter.widget-view+json": {
       "model_id": "",
       "version_major": 2,
       "version_minor": 0
      },
      "text/plain": [
       "  0%|          | 0/19 [00:00<?, ?it/s]"
      ]
     },
     "metadata": {},
     "output_type": "display_data"
    },
    {
     "data": {
      "application/vnd.jupyter.widget-view+json": {
       "model_id": "",
       "version_major": 2,
       "version_minor": 0
      },
      "text/plain": [
       "timestamps:   0%|          | 0/1 [00:00<?, ?it/s]"
      ]
     },
     "metadata": {},
     "output_type": "display_data"
    },
    {
     "data": {
      "application/vnd.jupyter.widget-view+json": {
       "model_id": "",
       "version_major": 2,
       "version_minor": 0
      },
      "text/plain": [
       "  0%|          | 0/19 [00:00<?, ?it/s]"
      ]
     },
     "metadata": {},
     "output_type": "display_data"
    },
    {
     "data": {
      "application/vnd.jupyter.widget-view+json": {
       "model_id": "",
       "version_major": 2,
       "version_minor": 0
      },
      "text/plain": [
       "timestamps:   0%|          | 0/1 [00:00<?, ?it/s]"
      ]
     },
     "metadata": {},
     "output_type": "display_data"
    },
    {
     "data": {
      "application/vnd.jupyter.widget-view+json": {
       "model_id": "",
       "version_major": 2,
       "version_minor": 0
      },
      "text/plain": [
       "  0%|          | 0/19 [00:00<?, ?it/s]"
      ]
     },
     "metadata": {},
     "output_type": "display_data"
    }
   ],
   "source": [
    "mean_accs_mnist_dp_sgd, uncert_per_class_mnist_dp_sgd = eval_classifier(\"mnist_conv_cond\", dp_sgd=True)"
   ]
  },
  {
   "cell_type": "code",
   "execution_count": 11,
   "id": "b242fdb2-13f6-4630-b921-0a1c90c9e64c",
   "metadata": {
    "tags": []
   },
   "outputs": [
    {
     "data": {
      "application/vnd.jupyter.widget-view+json": {
       "model_id": "a70727ec3b3e4146b40f7eb0a17aa522",
       "version_major": 2,
       "version_minor": 0
      },
      "text/plain": [
       "epsilons:   0%|          | 0/7 [00:00<?, ?it/s]"
      ]
     },
     "metadata": {},
     "output_type": "display_data"
    },
    {
     "data": {
      "application/vnd.jupyter.widget-view+json": {
       "model_id": "",
       "version_major": 2,
       "version_minor": 0
      },
      "text/plain": [
       "timestamps:   0%|          | 0/1 [00:00<?, ?it/s]"
      ]
     },
     "metadata": {},
     "output_type": "display_data"
    },
    {
     "data": {
      "application/vnd.jupyter.widget-view+json": {
       "model_id": "",
       "version_major": 2,
       "version_minor": 0
      },
      "text/plain": [
       "  0%|          | 0/9 [00:00<?, ?it/s]"
      ]
     },
     "metadata": {},
     "output_type": "display_data"
    },
    {
     "data": {
      "application/vnd.jupyter.widget-view+json": {
       "model_id": "",
       "version_major": 2,
       "version_minor": 0
      },
      "text/plain": [
       "timestamps:   0%|          | 0/1 [00:00<?, ?it/s]"
      ]
     },
     "metadata": {},
     "output_type": "display_data"
    },
    {
     "data": {
      "application/vnd.jupyter.widget-view+json": {
       "model_id": "",
       "version_major": 2,
       "version_minor": 0
      },
      "text/plain": [
       "  0%|          | 0/9 [00:00<?, ?it/s]"
      ]
     },
     "metadata": {},
     "output_type": "display_data"
    },
    {
     "data": {
      "application/vnd.jupyter.widget-view+json": {
       "model_id": "",
       "version_major": 2,
       "version_minor": 0
      },
      "text/plain": [
       "timestamps:   0%|          | 0/1 [00:00<?, ?it/s]"
      ]
     },
     "metadata": {},
     "output_type": "display_data"
    },
    {
     "data": {
      "application/vnd.jupyter.widget-view+json": {
       "model_id": "",
       "version_major": 2,
       "version_minor": 0
      },
      "text/plain": [
       "  0%|          | 0/9 [00:00<?, ?it/s]"
      ]
     },
     "metadata": {},
     "output_type": "display_data"
    },
    {
     "data": {
      "application/vnd.jupyter.widget-view+json": {
       "model_id": "",
       "version_major": 2,
       "version_minor": 0
      },
      "text/plain": [
       "timestamps:   0%|          | 0/1 [00:00<?, ?it/s]"
      ]
     },
     "metadata": {},
     "output_type": "display_data"
    },
    {
     "data": {
      "application/vnd.jupyter.widget-view+json": {
       "model_id": "",
       "version_major": 2,
       "version_minor": 0
      },
      "text/plain": [
       "  0%|          | 0/9 [00:00<?, ?it/s]"
      ]
     },
     "metadata": {},
     "output_type": "display_data"
    },
    {
     "data": {
      "application/vnd.jupyter.widget-view+json": {
       "model_id": "",
       "version_major": 2,
       "version_minor": 0
      },
      "text/plain": [
       "timestamps:   0%|          | 0/1 [00:00<?, ?it/s]"
      ]
     },
     "metadata": {},
     "output_type": "display_data"
    },
    {
     "data": {
      "application/vnd.jupyter.widget-view+json": {
       "model_id": "",
       "version_major": 2,
       "version_minor": 0
      },
      "text/plain": [
       "  0%|          | 0/9 [00:00<?, ?it/s]"
      ]
     },
     "metadata": {},
     "output_type": "display_data"
    },
    {
     "data": {
      "application/vnd.jupyter.widget-view+json": {
       "model_id": "",
       "version_major": 2,
       "version_minor": 0
      },
      "text/plain": [
       "timestamps:   0%|          | 0/1 [00:00<?, ?it/s]"
      ]
     },
     "metadata": {},
     "output_type": "display_data"
    },
    {
     "data": {
      "application/vnd.jupyter.widget-view+json": {
       "model_id": "",
       "version_major": 2,
       "version_minor": 0
      },
      "text/plain": [
       "  0%|          | 0/9 [00:00<?, ?it/s]"
      ]
     },
     "metadata": {},
     "output_type": "display_data"
    },
    {
     "data": {
      "application/vnd.jupyter.widget-view+json": {
       "model_id": "",
       "version_major": 2,
       "version_minor": 0
      },
      "text/plain": [
       "timestamps:   0%|          | 0/1 [00:00<?, ?it/s]"
      ]
     },
     "metadata": {},
     "output_type": "display_data"
    },
    {
     "data": {
      "application/vnd.jupyter.widget-view+json": {
       "model_id": "",
       "version_major": 2,
       "version_minor": 0
      },
      "text/plain": [
       "  0%|          | 0/9 [00:00<?, ?it/s]"
      ]
     },
     "metadata": {},
     "output_type": "display_data"
    }
   ],
   "source": [
    "mean_accs_chest_xray_dp_sgd, uncert_per_class_chest_xray_dp_sgd = eval_classifier(\"chest_xray_conv_cond\", mc_iter=5, dp_sgd=True)"
   ]
  },
  {
   "cell_type": "code",
   "execution_count": 12,
   "id": "d07080a7-6ebd-4a11-b739-1d12583f7a56",
   "metadata": {
    "tags": []
   },
   "outputs": [
    {
     "data": {
      "application/vnd.jupyter.widget-view+json": {
       "model_id": "47eecc4dda4f4e50a5739bb1d643de8d",
       "version_major": 2,
       "version_minor": 0
      },
      "text/plain": [
       "epsilons:   0%|          | 0/7 [00:00<?, ?it/s]"
      ]
     },
     "metadata": {},
     "output_type": "display_data"
    },
    {
     "data": {
      "application/vnd.jupyter.widget-view+json": {
       "model_id": "",
       "version_major": 2,
       "version_minor": 0
      },
      "text/plain": [
       "timestamps:   0%|          | 0/1 [00:00<?, ?it/s]"
      ]
     },
     "metadata": {},
     "output_type": "display_data"
    },
    {
     "data": {
      "application/vnd.jupyter.widget-view+json": {
       "model_id": "",
       "version_major": 2,
       "version_minor": 0
      },
      "text/plain": [
       "  0%|          | 0/15 [00:00<?, ?it/s]"
      ]
     },
     "metadata": {},
     "output_type": "display_data"
    },
    {
     "data": {
      "application/vnd.jupyter.widget-view+json": {
       "model_id": "",
       "version_major": 2,
       "version_minor": 0
      },
      "text/plain": [
       "timestamps:   0%|          | 0/1 [00:00<?, ?it/s]"
      ]
     },
     "metadata": {},
     "output_type": "display_data"
    },
    {
     "data": {
      "application/vnd.jupyter.widget-view+json": {
       "model_id": "",
       "version_major": 2,
       "version_minor": 0
      },
      "text/plain": [
       "  0%|          | 0/15 [00:00<?, ?it/s]"
      ]
     },
     "metadata": {},
     "output_type": "display_data"
    },
    {
     "data": {
      "application/vnd.jupyter.widget-view+json": {
       "model_id": "",
       "version_major": 2,
       "version_minor": 0
      },
      "text/plain": [
       "timestamps:   0%|          | 0/1 [00:00<?, ?it/s]"
      ]
     },
     "metadata": {},
     "output_type": "display_data"
    },
    {
     "data": {
      "application/vnd.jupyter.widget-view+json": {
       "model_id": "",
       "version_major": 2,
       "version_minor": 0
      },
      "text/plain": [
       "  0%|          | 0/15 [00:00<?, ?it/s]"
      ]
     },
     "metadata": {},
     "output_type": "display_data"
    },
    {
     "data": {
      "application/vnd.jupyter.widget-view+json": {
       "model_id": "",
       "version_major": 2,
       "version_minor": 0
      },
      "text/plain": [
       "timestamps:   0%|          | 0/1 [00:00<?, ?it/s]"
      ]
     },
     "metadata": {},
     "output_type": "display_data"
    },
    {
     "data": {
      "application/vnd.jupyter.widget-view+json": {
       "model_id": "",
       "version_major": 2,
       "version_minor": 0
      },
      "text/plain": [
       "  0%|          | 0/15 [00:00<?, ?it/s]"
      ]
     },
     "metadata": {},
     "output_type": "display_data"
    },
    {
     "data": {
      "application/vnd.jupyter.widget-view+json": {
       "model_id": "",
       "version_major": 2,
       "version_minor": 0
      },
      "text/plain": [
       "timestamps:   0%|          | 0/1 [00:00<?, ?it/s]"
      ]
     },
     "metadata": {},
     "output_type": "display_data"
    },
    {
     "data": {
      "application/vnd.jupyter.widget-view+json": {
       "model_id": "",
       "version_major": 2,
       "version_minor": 0
      },
      "text/plain": [
       "  0%|          | 0/15 [00:00<?, ?it/s]"
      ]
     },
     "metadata": {},
     "output_type": "display_data"
    },
    {
     "data": {
      "application/vnd.jupyter.widget-view+json": {
       "model_id": "",
       "version_major": 2,
       "version_minor": 0
      },
      "text/plain": [
       "timestamps:   0%|          | 0/1 [00:00<?, ?it/s]"
      ]
     },
     "metadata": {},
     "output_type": "display_data"
    },
    {
     "data": {
      "application/vnd.jupyter.widget-view+json": {
       "model_id": "",
       "version_major": 2,
       "version_minor": 0
      },
      "text/plain": [
       "  0%|          | 0/15 [00:00<?, ?it/s]"
      ]
     },
     "metadata": {},
     "output_type": "display_data"
    },
    {
     "data": {
      "application/vnd.jupyter.widget-view+json": {
       "model_id": "",
       "version_major": 2,
       "version_minor": 0
      },
      "text/plain": [
       "timestamps:   0%|          | 0/1 [00:00<?, ?it/s]"
      ]
     },
     "metadata": {},
     "output_type": "display_data"
    },
    {
     "data": {
      "application/vnd.jupyter.widget-view+json": {
       "model_id": "",
       "version_major": 2,
       "version_minor": 0
      },
      "text/plain": [
       "  0%|          | 0/15 [00:00<?, ?it/s]"
      ]
     },
     "metadata": {},
     "output_type": "display_data"
    }
   ],
   "source": [
    "mean_accs_oct_dp_sgd, uncert_per_class_oct_dp_sgd = eval_classifier(\"oct_conv_cond\", mc_iter=5, dp_sgd=True)"
   ]
  },
  {
   "cell_type": "raw",
   "id": "d8b97711-ce9a-48db-bdb3-364e66f07318",
   "metadata": {
    "jupyter": {
     "outputs_hidden": true
    },
    "tags": []
   },
   "source": [
    "import seaborn as sns\n",
    "sns.set()\n",
    "cp = sns.color_palette()\n",
    "\n",
    "epsilons = [0.5, 0.8, 1.0, 2.0, 3.0, 6.0]\n",
    "\n",
    "fig, ax = plt.subplots()\n",
    "\n",
    "mean_accs = [mean_accs_mnist_gt, mean_accs_oct_gt, mean_accs_chest_xray_gt] #  \n",
    "for i, (accs, ds) in enumerate(zip(mean_accs, [\"mnist\", \"oct\", \"chest xray\"])): #  \n",
    "    ax.plot([0, 6.0], [np.mean(accs[0]), np.mean(accs[0])], c=cp[i], linestyle='--')\n",
    "    ax.plot(epsilons, np.mean(accs[1:], axis=1), c=cp[i], linestyle='-', marker='x', label=ds)\n",
    "ax.legend(fontsize=15, loc=\"lower right\")\n",
    "ax.set_ylabel(\"Accuracy\", fontsize=15)\n",
    "ax.set_xlabel(r\"$\\epsilon$\", fontsize=20)\n",
    "ax.set_ylim([0.25, 1.01])\n",
    "# ax.set_aspect(5)\n",
    "fig.tight_layout()\n",
    "fig.savefig(\"./experiments/classifier_gt.pdf\", bbox_inches=\"tight\")"
   ]
  },
  {
   "cell_type": "raw",
   "id": "713d4c3a-ace2-4f6c-b716-72be58c26d07",
   "metadata": {},
   "source": [
    "\"%.2f ± %.2f\" % (np.mean(mean_accs) * 100, np.std(mean_accs) * 100)"
   ]
  },
  {
   "cell_type": "code",
   "execution_count": null,
   "id": "e3ca85c6-6dfd-46d8-b8e5-925659890f27",
   "metadata": {},
   "outputs": [],
   "source": [
    "import seaborn as sns\n",
    "sns.set()\n",
    "cp = sns.color_palette()\n",
    "cp = [cp[0], cp[2], cp[3]]\n",
    "\n",
    "epsilons = [0.5, 0.8, 1.0, 2.0, 3.0, 6.0]\n",
    "\n",
    "fig, ax = plt.subplots()\n",
    "\n",
    "mean_accs = [[mean_accs_mnist, mean_accs_mnist_gt, mean_accs_mnist_dp_sgd], \n",
    "             [mean_accs_oct, mean_accs_oct_gt, mean_accs_oct_dp_sgd], \n",
    "             [mean_accs_chest_xray, mean_accs_chest_xray_gt, mean_accs_chest_xray_dp_sgd]]  \n",
    "for i, (accs, ds) in enumerate(zip(mean_accs, [\"mnist\", \"oct\", \"chest xray\"])): #  \n",
    "    ax.plot([0, 6.0], [np.mean(accs[0][0]), np.mean(accs[0][0])], c=cp[i], linestyle='--')\n",
    "    ax.plot(epsilons, np.mean(accs[0][1:], axis=1), c=cp[i], linestyle='-', marker='x')#, label=ds) # private\n",
    "    ax.plot(epsilons, np.mean(accs[1][1:], axis=1), c=cp[i], linestyle='-', alpha=0.7) # public\n",
    "    ax.plot(epsilons, np.mean(accs[2][1:], axis=1), c=cp[i], linestyle='-', alpha=0.5) # dp sgd\n",
    "    ax.scatter(epsilons, np.mean(accs[1][1:], axis=1), color=cp[i], marker='^')\n",
    "    ax.scatter(epsilons, np.mean(accs[2][1:], axis=1), color=cp[i], marker='*')\n",
    "    ax.plot([0, 1], [-1, -1], c=cp[i], linestyle='-', label=ds)\n",
    "ax.plot([0, 1], [-1, -1], c=cp[i], linestyle='-', alpha=0, label=\" \")\n",
    "ax.plot([0, 1], [-1, -1], c='black', linestyle='--', label='GT')\n",
    "ax.plot([0, 1], [-1, -1], c='black', label='private', linestyle='-', marker='x')\n",
    "ax.plot([0, 1], [-1, -1], c='black', label='public', linestyle='-', marker='^')\n",
    "ax.plot([0, 1], [-1, -1], c='black', label='DP-SGD', linestyle='-', marker='*')\n",
    "ax.legend(fontsize=15, loc=\"lower right\", ncol=2)\n",
    "ax.set_ylabel(\"Accuracy\", fontsize=15)\n",
    "ax.set_xlabel(r\"$\\epsilon$\", fontsize=20)\n",
    "ax.set_ylim([0., 1.01])\n",
    "# ax.set_aspect(5)\n",
    "fig.tight_layout()\n",
    "#fig.savefig(\"./experiments/classifier_with_dp_sgd.pdf\", bbox_inches=\"tight\")"
   ]
  },
  {
   "cell_type": "code",
   "execution_count": 17,
   "id": "b5fda50d-6eee-4488-a2b5-fbbc1080bc9f",
   "metadata": {},
   "outputs": [
    {
     "data": {
      "image/png": "[encoded data removed]",
      "text/plain": [
       "<Figure size 432x288 with 3 Axes>"
      ]
     },
     "metadata": {},
     "output_type": "display_data"
    }
   ],
   "source": [
    "import seaborn as sns\n",
    "sns.set()\n",
    "cp = sns.color_palette()\n",
    "cp = [cp[0], cp[2], cp[3]]\n",
    "\n",
    "epsilons = [0.5, 0.8, 1.0, 2.0, 3.0, 6.0]\n",
    "fig, axs = plt.subplots(3)\n",
    "mean_accs = [[mean_accs_mnist, mean_accs_mnist_gt, mean_accs_mnist_dp_sgd], \n",
    "             [mean_accs_oct, mean_accs_oct_gt, mean_accs_oct_dp_sgd], \n",
    "             [mean_accs_chest_xray, mean_accs_chest_xray_gt, mean_accs_chest_xray_dp_sgd]] \n",
    "for i, (ax, accs, ds) in enumerate(zip(axs, mean_accs, [\"MNIST\", \"OCT\", \"X-ray\"])): #  \n",
    "    ax.plot([0, 6.0], [np.mean(accs[0][0]), np.mean(accs[0][0])], c=cp[i], linestyle='--')\n",
    "    #ax.plot(epsilons, np.mean(accs[0][1:], axis=1), c=cp[i], linestyle='-', marker='x')#, label=ds) # private\n",
    "    ax.plot(epsilons, np.mean(accs[1][1:], axis=1), c=cp[i], linestyle='-', alpha=0.7) # public\n",
    "    ax.plot(epsilons, np.mean(accs[2][1:], axis=1), c=cp[i], linestyle='-', alpha=0.5)\n",
    "    ax.scatter(epsilons, np.mean(accs[1][1:], axis=1), color=cp[i], marker='^')\n",
    "    ax.scatter(epsilons, np.mean(accs[2][1:], axis=1), color=cp[i], marker='*')\n",
    "    ax.set_ylim([np.min(accs) - 0.15, 1])\n",
    "    # ax.set_xticks(epsilons[1:])\n",
    "    if i != 2:\n",
    "        ax.set_xticklabels([])\n",
    "    axs[1].plot([0, 1], [-1, -1], c=cp[i], linestyle='-', label=ds)\n",
    "axs[1].plot([0, 1], [-1, -1], c=cp[i], linestyle='-', alpha=0, label=\" \")\n",
    "axs[1].plot([0, 1], [-1, -1], c='black', linestyle='--', label='Baseline o/o')\n",
    "#axs[1].plot([0, 1], [-1, -1], c='black', label='CADP p/p', linestyle='-', marker='x')\n",
    "axs[1].plot([0, 1], [-1, -1], c='black', label='CADP p/o', linestyle='-', marker='^')\n",
    "axs[1].plot([0, 1], [-1, -1], c='black', label='DP-SGD o/o', linestyle='-', marker='*')\n",
    "axs[1].set_ylabel(\"Accuracy\", fontsize=15)\n",
    "axs[-1].set_xlabel(r\"$\\epsilon$\", fontsize=20)\n",
    "axs[1].legend(fontsize=15, loc=\"center\", bbox_to_anchor=(1.22, .5))\n",
    "#fig.tight_layout()\n",
    "fig.subplots_adjust(hspace=0.1)\n",
    "fig.savefig(\"./experiments/classifier_3_plots.pdf\", bbox_inches=\"tight\")"
   ]
  },
  {
   "cell_type": "code",
   "execution_count": 21,
   "id": "a032ebd5-95d7-4430-a1fa-216c6be1fc88",
   "metadata": {},
   "outputs": [
    {
     "name": "stdout",
     "output_type": "stream",
     "text": [
      "[[0.92937911]\n",
      " [0.93040707]\n",
      " [0.93472451]\n",
      " [0.92865954]\n",
      " [0.93143503]\n",
      " [0.92999589]]\n",
      "\n",
      "\n",
      "[[0.89237253]\n",
      " [0.90326891]\n",
      " [0.90738076]\n",
      " [0.91776316]\n",
      " [0.92300576]\n",
      " [0.9297903 ]]\n"
     ]
    }
   ],
   "source": [
    "print(mean_accs_mnist_gt[1:])\n",
    "print('\\n')\n",
    "print(mean_accs_mnist_dp_sgd[1:])"
   ]
  },
  {
   "cell_type": "code",
   "execution_count": 24,
   "id": "6e925228-6b01-4be4-8232-1de76dc4cdd3",
   "metadata": {},
   "outputs": [
    {
     "data": {
      "text/plain": [
       "0.23630952380952383"
      ]
     },
     "execution_count": 24,
     "metadata": {},
     "output_type": "execute_result"
    }
   ],
   "source": [
    "np.mean(np.array(mean_accs_oct_gt) - np.array(mean_accs_oct_dp_sgd))"
   ]
  },
  {
   "cell_type": "code",
   "execution_count": 25,
   "id": "c4d5cd00-8064-4faf-85e5-0591462c719a",
   "metadata": {},
   "outputs": [
    {
     "name": "stdout",
     "output_type": "stream",
     "text": [
      "[[0.60625   ]\n",
      " [0.61145833]\n",
      " [0.61666667]\n",
      " [0.625     ]\n",
      " [0.63333333]\n",
      " [0.6125    ]]\n",
      "\n",
      "\n",
      "[[0.33333333]\n",
      " [0.34895833]\n",
      " [0.34479167]\n",
      " [0.31770833]\n",
      " [0.34375   ]\n",
      " [0.365625  ]]\n"
     ]
    }
   ],
   "source": [
    "print(mean_accs_oct_gt[1:])\n",
    "print('\\n')\n",
    "print(mean_accs_oct_dp_sgd[1:])"
   ]
  },
  {
   "cell_type": "code",
   "execution_count": 27,
   "id": "1264a93e-7d62-4974-ac28-56f26873be19",
   "metadata": {},
   "outputs": [
    {
     "data": {
      "text/plain": [
       "0.16517857142857145"
      ]
     },
     "execution_count": 27,
     "metadata": {},
     "output_type": "execute_result"
    }
   ],
   "source": [
    "np.mean(np.array(mean_accs_chest_xray_gt) - np.array(mean_accs_chest_xray_dp_sgd))"
   ]
  },
  {
   "cell_type": "code",
   "execution_count": null,
   "id": "46463ef1-92fd-4d32-bca6-81cac00c6675",
   "metadata": {},
   "outputs": [],
   "source": []
  }
 ],
 "metadata": {
  "kernelspec": {
   "display_name": "base",
   "language": "python",
   "name": "base"
  },
  "language_info": {
   "codemirror_mode": {
    "name": "ipython",
    "version": 3
   },
   "file_extension": ".py",
   "mimetype": "text/x-python",
   "name": "python",
   "nbconvert_exporter": "python",
   "pygments_lexer": "ipython3",
   "version": "3.9.7"
  }
 },
 "nbformat": 4,
 "nbformat_minor": 5
}
