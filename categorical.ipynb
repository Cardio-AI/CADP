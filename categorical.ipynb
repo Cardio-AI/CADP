{
 "cells": [
  {
   "cell_type": "code",
   "execution_count": 1,
   "id": "3623bf32-7b4e-48d1-9231-2e361106a7e7",
   "metadata": {},
   "outputs": [],
   "source": [
    "from sklearn.datasets import load_diabetes, load_breast_cancer\n",
    "from typing import Optional, Tuple\n",
    "import matplotlib.pyplot as plt\n",
    "plt.rcParams.update({\n",
    "    \"text.usetex\": True,\n",
    "    \"font.family\": \"sans-serif\",\n",
    "    \"font.sans-serif\": [\"Helvetica\"]\n",
    "})\n",
    "import seaborn as sns\n",
    "sns.set()\n",
    "cp = sns.color_palette()\n",
    "import numpy as np\n",
    "import torch\n",
    "from torch import nn\n",
    "import torch.nn.functional as F\n",
    "import FrEIA.framework as ff\n",
    "import FrEIA.modules as fm\n",
    "from tqdm.notebook import tqdm\n",
    "from IPython import display\n",
    "import latent_dp"
   ]
  },
  {
   "cell_type": "code",
   "execution_count": 2,
   "id": "20e878f7-6b68-4094-b761-795f0723c489",
   "metadata": {},
   "outputs": [],
   "source": [
    "ds_name = \"diabetes\"  # \"breast_cancer\"\n",
    "exec(f\"ds = load_{ds_name}()\")\n",
    "x, y = torch.from_numpy(ds[\"data\"]).cuda().float(), torch.from_numpy(ds[\"target\"])"
   ]
  },
  {
   "cell_type": "code",
   "execution_count": 3,
   "id": "db5ad2ae-5ff2-41ae-a0bc-b06ec44dcf10",
   "metadata": {},
   "outputs": [
    {
     "data": {
      "text/plain": [
       "torch.return_types.max(\n",
       "values=tensor([1., 1., 1., 1., 1., 1., 1., 1., 1., 1.], device='cuda:0'),\n",
       "indices=tensor([204,   0, 367, 340, 230, 123,  58, 123,  23,  23], device='cuda:0'))"
      ]
     },
     "execution_count": 3,
     "metadata": {},
     "output_type": "execute_result"
    }
   ],
   "source": [
    "x = x / x.max(0, keepdim=True)[0]\n",
    "x.max(dim=0)"
   ]
  },
  {
   "cell_type": "code",
   "execution_count": 4,
   "id": "e100eeae-25d4-4603-9aea-906164f630a8",
   "metadata": {
    "tags": []
   },
   "outputs": [
    {
     "data": {
      "text/plain": [
       "['age', 'sex', 'bmi', 'bp', 's1', 's2', 's3', 's4', 's5', 's6']"
      ]
     },
     "execution_count": 4,
     "metadata": {},
     "output_type": "execute_result"
    }
   ],
   "source": [
    "ds[\"feature_names\"]"
   ]
  },
  {
   "cell_type": "code",
   "execution_count": 5,
   "id": "218bd486-a864-4c49-8892-0405df617b3c",
   "metadata": {},
   "outputs": [
    {
     "data": {
      "image/png": "[encoded data removed]",
      "text/plain": [
       "<Figure size 1080x432 with 10 Axes>"
      ]
     },
     "metadata": {},
     "output_type": "display_data"
    }
   ],
   "source": [
    "if ds_name == \"diabetes\":\n",
    "    fig, axs = plt.subplots(2, 5, figsize=(15, 6))\n",
    "elif ds_name == \"breast_cancer\":\n",
    "    fig, axs = plt.subplots(5, 6, figsize=(40,30))\n",
    "for i, ax in enumerate(axs.flatten()):\n",
    "    hist, bin_edges = np.histogram(x[:,i].cpu().numpy())#, density=True)\n",
    "    # hist_rev, _ = np.histogram(rev_dp[:,i].cpu().numpy(), range=(bin_edges.min(), bin_edges.max()), density=True)\n",
    "    ax.bar(bin_edges[:-1], hist, width=bin_edges[1]-bin_edges[0], align=\"edge\", label=\"true\")\n",
    "    # ax.bar(bin_edges[:-1], hist_rev, width=bin_edges[1]-bin_edges[0], align=\"edge\", alpha=0.7, label=\"dp\")\n",
    "    ax.set_title(ds[\"feature_names\"][i], fontsize=50)\n",
    "    ax.xaxis.set_tick_params(labelsize=20)\n",
    "    ax.yaxis.set_tick_params(labelsize=20)\n",
    "# ax.legend(fontsize=40, loc=\"upper center\", bbox_to_anchor=(1., 1.15)) #, ncol=2)\n",
    "\n",
    "fig.tight_layout()\n",
    "# fig.savefig(f\"./experiments/categorical/features_diabetes.pdf\", bbox_inches=\"tight\")\n",
    "plt.show()"
   ]
  },
  {
   "cell_type": "code",
   "execution_count": 6,
   "id": "109c169e-fbdd-4c5d-bf29-6f13f09bede4",
   "metadata": {},
   "outputs": [],
   "source": [
    "n_blocks = 4\n",
    "n_epochs = 5000\n",
    "lr = 1e-4\n",
    "noise_std = 0.02\n",
    "rev_loss = False # True\n",
    "register_forward_hook = True\n",
    "plot_every = 50\n",
    "coupling_block = fm.GINCouplingBlock # fm.GLOWCouplingBlock\n",
    "\n",
    "def subnet_fc(dims_in: int, dims_out: int) -> nn.Sequential:\n",
    "    return nn.Sequential(\n",
    "        nn.Linear(dims_in, 128),\n",
    "        nn.ReLU(),\n",
    "        nn.Linear(128, 128),\n",
    "        nn.ReLU(),\n",
    "        nn.Linear(128, dims_out)\n",
    "    )"
   ]
  },
  {
   "cell_type": "code",
   "execution_count": 7,
   "id": "c8bbfa7a-e71f-4bbd-91bd-b3de00e20d2d",
   "metadata": {},
   "outputs": [],
   "source": [
    "nodes = [ff.InputNode(x.size(1), name=\"inp\")]\n",
    "cond = ff.ConditionNode(1)\n",
    "for i in range(1, n_blocks + 1):\n",
    "    nodes.append(ff.Node([nodes[-1].out0], fm.PermuteRandom, {\"seed\": i}, name=f\"permute_{i}\"))\n",
    "    nodes.append(ff.Node([nodes[-1].out0], coupling_block, {\"clamp\": 2.0, \"subnet_constructor\": subnet_fc}, conditions=cond, name=f\"coupling_{i}\"))\n",
    "nodes.append(ff.OutputNode([nodes[-1].out0], name=\"out\"))\n",
    "nodes.append(cond)"
   ]
  },
  {
   "cell_type": "code",
   "execution_count": 8,
   "id": "be5ab875-b91d-4819-ada1-dfdae9d92965",
   "metadata": {},
   "outputs": [],
   "source": [
    "model = ff.ReversibleGraphNet(nodes, verbose=False).cuda()\n",
    "# x, y = torch.cuda.FloatTensor(x), torch.cuda.FloatTensor(y)\n",
    "optimizer = torch.optim.Adam(model.parameters(), lr=lr)"
   ]
  },
  {
   "cell_type": "code",
   "execution_count": 31,
   "id": "54615557-6509-44e6-9358-112bfee1c150",
   "metadata": {
    "tags": []
   },
   "outputs": [
    {
     "data": {
      "application/vnd.jupyter.widget-view+json": {
       "model_id": "961b7bee88664b8bb75ac3d9bddc355f",
       "version_major": 2,
       "version_minor": 0
      },
      "text/plain": [
       "  0%|          | 0/500 [00:00<?, ?it/s]"
      ]
     },
     "metadata": {},
     "output_type": "display_data"
    }
   ],
   "source": [
    "forward_plot_titles = [r\"$\\mathbf{x}$\", *[f\"t{i}\" for i in range(1, 4)], r\"$f_{\\theta}(\\mathbf{x})$\"]\n",
    "backward_plot_titles = [r\"$f_{\\theta}(\\mathbf{z})$\", *[f\"t{i}\" for i in range(1, 4)], r\"$\\mathbf{z} \\sim \\mathcal{N}(\\mathbf{0},\\mathbf{I})$\"]\n",
    "\n",
    "z = torch.randn(x.shape, device=\"cuda\")\n",
    "\n",
    "pbar = tqdm(range(n_epochs))\n",
    "for e in pbar:\n",
    "    feature_maps = []\n",
    "    \n",
    "    optimizer.zero_grad()\n",
    "    x_noisy = x + torch.randn(x.shape, device=x.device) * noise_std\n",
    "    if ds_name == \"diabetes\":\n",
    "        x[:,1] = (x[:,1] > 0).float()\n",
    "        cond = (x[:,1:2] > 0).float()\n",
    "    elif ds_name == \"breast_cancer\":\n",
    "        cond = y[:,None].cuda()\n",
    "    out, jac = model(x_noisy, cond)\n",
    "    zz = 0.5 * torch.sum(out**2, dim=1)\n",
    "    nll = zz - jac\n",
    "    loss = torch.mean(nll)\n",
    "    loss.backward(retain_graph=rev_loss)\n",
    "    \n",
    "    #if rev_loss:\n",
    "    #    z_noisy = torch.randn((x.size(0), 10), device=\"cuda\")\n",
    "        # z_noisy = z + torch.randn(x.shape, device=x.device) * noise_std\n",
    "    #    recon, _ = model(z_noisy, rev=True)\n",
    "    #    mse = F.mse_loss(recon, x)\n",
    "    #    mse.backward()\n",
    "    \n",
    "    nn.utils.clip_grad_norm_(model.parameters(), 2)\n",
    "    \n",
    "    optimizer.step()\n",
    "    out = out.cpu().detach()\n",
    "    \n",
    "    # if i % plot_every == 0:\n",
    "    pbar.set_description(f\"nll: {loss.item():.4f}\") # | MSE: {mse.item():.4f}\")"
   ]
  },
  {
   "cell_type": "code",
   "execution_count": 70,
   "id": "e37bfb6d-9b19-48e1-a26f-7ff581efe5c8",
   "metadata": {
    "tags": []
   },
   "outputs": [],
   "source": [
    "revs_dp = []\n",
    "for epsilon in [.5, 1., 3.]:\n",
    "    laplace_dp = latent_dp.LaplaceMechanism(epsilon, .1)\n",
    "    with torch.no_grad():\n",
    "        if ds_name == \"diabetes\":\n",
    "            cond = (x[:,1:2] > 0).float()\n",
    "        elif ds_name == \"breast_cancer\":\n",
    "            cond = y[:,None].cuda()\n",
    "        z, _ = model(x, cond)\n",
    "        # gm_sigma = sigma_gaussian_mechanism(z, epsilon, delta)\n",
    "        z_dp = laplace_dp(z)\n",
    "        cond = torch.randint_like(cond, 2)\n",
    "        # z_dp = z + gm_sigma.cuda() * torch.randn(z.size()).cuda()\n",
    "        rev_dp, _ = model(z_dp, cond, rev=True)\n",
    "        rev, _ = model(z, cond, rev=True)\n",
    "        revs_dp.append(rev_dp)"
   ]
  },
  {
   "cell_type": "code",
   "execution_count": 71,
   "id": "9cf8f4a7-3de0-495b-9b17-a1fd41778025",
   "metadata": {},
   "outputs": [
    {
     "data": {
      "image/png": "[encoded data removed]",
      "text/plain": [
       "<Figure size 1080x360 with 10 Axes>"
      ]
     },
     "metadata": {},
     "output_type": "display_data"
    }
   ],
   "source": [
    "if ds_name == \"diabetes\":\n",
    "    fig, axs = plt.subplots(2, 5, figsize=(15, 5))\n",
    "elif ds_name == \"breast_cancer\":\n",
    "    fig, axs = plt.subplots(5, 6, figsize=(40,30))\n",
    "for i, ax in enumerate(axs.flatten()):\n",
    "    hist, bin_edges = np.histogram(x[:,i].cpu().numpy(), density=True)\n",
    "    ax.bar(bin_edges[:-1], hist, width=bin_edges[1]-bin_edges[0], align=\"edge\", label=\"true\")\n",
    "    for rev_dp, epsilon in zip(revs_dp[1:2], [1]):#revs_dp[::-1], [9, 6, 3]):\n",
    "        hist_rev, _ = np.histogram(rev_dp[:,i].cpu().numpy(), range=(bin_edges.min(), bin_edges.max()), density=True)\n",
    "        ax.bar(bin_edges[:-1], hist_rev, width=bin_edges[1]-bin_edges[0], align=\"edge\", alpha=0.7, label=r\"$\\epsilon = %d$\" % int(epsilon))\n",
    "    ax.set_title(ds[\"feature_names\"][i], fontsize=20)\n",
    "    ax.xaxis.set_tick_params(labelsize=12)\n",
    "    ax.yaxis.set_tick_params(labelsize=12)\n",
    "    #if i == 6:\n",
    "    #    break\n",
    "    if i == 4:\n",
    "        ax.legend(fontsize=15, loc=\"upper center\", bbox_to_anchor=(1.1, 1.)) #, ncol=2)\n",
    "\n",
    "fig.tight_layout()\n",
    "#fig.savefig(f\"./experiments/categorical/features_{ds_name}.pdf\", bbox_inches=\"tight\")\n",
    "plt.show()"
   ]
  },
  {
   "cell_type": "code",
   "execution_count": 75,
   "id": "9ee1b460-cbff-4c4b-bd40-eab63af75970",
   "metadata": {},
   "outputs": [
    {
     "data": {
      "image/png": "[encoded data removed]",
      "text/plain": [
       "<Figure size 1080x216 with 5 Axes>"
      ]
     },
     "metadata": {},
     "output_type": "display_data"
    }
   ],
   "source": [
    "fig, axs = plt.subplots(1, 5, figsize=(15, 3))\n",
    "if ds_name == \"diabetes\":\n",
    "    idx = [0, 1, 2, 4, 7]\n",
    "    #idx = [3, 5, 6, 8, 9]\n",
    "    #x_plot = x.cpu()[:,idx]\n",
    "    feature_names = np.array(ds[\"feature_names\"])[idx].tolist()\n",
    "elif ds_name == \"breast_cancer\":\n",
    "    fig, axs = plt.subplots(5, 6, figsize=(40,30))\n",
    "for i, ax in zip(idx, axs.flatten()):\n",
    "    hist, bin_edges = np.histogram(x[:,i].cpu().numpy(), density=True)\n",
    "    ax.bar(bin_edges[:-1], hist, width=bin_edges[1]-bin_edges[0], align=\"edge\", label=\"true\")\n",
    "    \n",
    "    for rev_dp, epsilon in zip(revs_dp[1:2], [1]):#revs_dp[::-1], [9, 6, 3]):\n",
    "        try:\n",
    "            hist_rev, _ = np.histogram(rev_dp[:,i].cpu().numpy(), range=(bin_edges.min(), bin_edges.max()), density=True)\n",
    "            ax.bar(bin_edges[:-1], hist_rev, width=bin_edges[1]-bin_edges[0], align=\"edge\", alpha=0.7, label=r\"$\\epsilon = %d$\" % int(epsilon))\n",
    "        except:\n",
    "            import pdb;pdb.set_trace()\n",
    "    ax.set_title(ds[\"feature_names\"][i], fontsize=20)\n",
    "    ax.xaxis.set_tick_params(labelsize=12)\n",
    "    ax.yaxis.set_tick_params(labelsize=12)\n",
    "    #if i == 6:\n",
    "    #    break\n",
    "    if i == idx[-1]:\n",
    "        ax.legend(fontsize=15, loc=\"upper center\", bbox_to_anchor=(.8, 1.)) #, ncol=2)\n",
    "\n",
    "fig.tight_layout()\n",
    "fig.savefig(f\"./experiments/categorical/features_{ds_name}_example_features.pdf\", bbox_inches=\"tight\")\n",
    "plt.show()"
   ]
  },
  {
   "cell_type": "code",
   "execution_count": 55,
   "id": "78e1d3dd-2717-432c-b0d2-83b9458ac3c5",
   "metadata": {},
   "outputs": [
    {
     "data": {
      "text/plain": [
       "[tensor([[ 0.0019,  1.0372, -0.3269,  ..., -0.0188, -0.3334, -0.2200],\n",
       "         [ 0.2152,  1.0421, -0.0699,  ...,  0.3560,  0.0079,  0.0917],\n",
       "         [ 0.0503,  0.9950, -0.0035,  ..., -0.0571, -0.2159,  0.6879],\n",
       "         ...,\n",
       "         [ 0.3336, -0.0237, -0.1860,  ..., -0.0888, -0.1527,  0.4466],\n",
       "         [ 0.7338,  1.0050, -0.0656,  ...,  0.1141, -0.1161,  0.4780],\n",
       "         [ 0.0434,  0.0013,  0.7122,  ..., -0.2525, -0.3072, -0.0377]],\n",
       "        device='cuda:0'),\n",
       " tensor([[ 0.3197,  0.9914,  0.0441,  ...,  0.1270,  0.0802,  0.4221],\n",
       "         [ 0.2050, -0.0024, -0.1676,  ..., -0.2675, -0.3035, -0.0556],\n",
       "         [-0.0227,  0.0092,  0.0384,  ..., -0.1473, -0.1803, -0.0707],\n",
       "         ...,\n",
       "         [-0.1393,  0.0046, -0.2635,  ..., -0.1911, -0.3173,  0.0290],\n",
       "         [ 0.2556,  0.0063, -0.0801,  ..., -0.2888, -0.5460, -0.0602],\n",
       "         [-0.4160,  0.0154, -0.0632,  ..., -0.0815, -0.3120, -0.4644]],\n",
       "        device='cuda:0'),\n",
       " tensor([[-7.5361e-02,  3.2191e-03, -1.1900e-01,  ..., -1.8889e-01,\n",
       "          -1.5598e-01, -1.7767e-01],\n",
       "         [ 3.3348e-01,  9.9201e-01,  1.3839e-02,  ...,  2.2903e-02,\n",
       "          -8.9292e-03,  1.8774e-02],\n",
       "         [-1.9243e-01, -2.7442e-03, -1.2219e-01,  ..., -1.8701e-01,\n",
       "          -2.0984e-01, -2.6187e-01],\n",
       "         ...,\n",
       "         [ 2.2122e-01,  1.0054e+00, -3.0086e-02,  ...,  5.7734e-02,\n",
       "           1.3256e-04,  1.8789e-02],\n",
       "         [ 1.8849e-01,  9.9884e-01,  3.5800e-02,  ...,  3.9814e-02,\n",
       "           1.5587e-02,  7.4933e-02],\n",
       "         [-1.4842e-01, -3.3909e-03, -1.6607e-01,  ..., -1.6611e-01,\n",
       "          -1.9692e-01, -2.0170e-01]], device='cuda:0')]"
      ]
     },
     "execution_count": 55,
     "metadata": {},
     "output_type": "execute_result"
    }
   ],
   "source": [
    "revs_dp"
   ]
  },
  {
   "cell_type": "code",
   "execution_count": 13,
   "id": "f25ef635-52c6-4882-910c-5a50a249bc48",
   "metadata": {},
   "outputs": [],
   "source": [
    "class Classifier(nn.Module):\n",
    "    def __init__(self):\n",
    "        super().__init__()\n",
    "        self.l1 = nn.Linear(x.size(1), 10)\n",
    "        self.l2 = nn.Linear(10, 1)\n",
    "    \n",
    "    def forward(self, x: torch.Tensor) -> torch.Tensor:\n",
    "        return self.l2(nn.functional.relu(self.l1(x)))"
   ]
  },
  {
   "cell_type": "code",
   "execution_count": 14,
   "id": "ae4e59d6-1de4-4122-b370-b8a1c75d3b4d",
   "metadata": {},
   "outputs": [],
   "source": [
    "classifier = Classifier().cuda()\n",
    "optim = torch.optim.Adam(classifier.parameters(), lr=1e-3)\n",
    "epsilon = 100."
   ]
  },
  {
   "cell_type": "code",
   "execution_count": 32,
   "id": "b0d94eb8-d8dd-45bb-a612-f03101982b63",
   "metadata": {},
   "outputs": [
    {
     "data": {
      "application/vnd.jupyter.widget-view+json": {
       "model_id": "9105fd3d4ac64ee69b2c317e15006b60",
       "version_major": 2,
       "version_minor": 0
      },
      "text/plain": [
       "  0%|          | 0/1000 [00:00<?, ?it/s]"
      ]
     },
     "metadata": {},
     "output_type": "display_data"
    },
    {
     "name": "stdout",
     "output_type": "stream",
     "text": [
      "16063.0966796875\n"
     ]
    }
   ],
   "source": [
    "classifier = Classifier().cuda()\n",
    "optim = torch.optim.Adam(classifier.parameters(), lr=1e-3)\n",
    "for e in tqdm(range(1000)):\n",
    "    optim.zero_grad()\n",
    "    pred = classifier(x)\n",
    "    if ds_name == \"diabetes\":\n",
    "        loss = nn.functional.mse_loss(pred, y[...,None].cuda().float())\n",
    "    elif ds_name == \"breast_cancer\":\n",
    "        pred = torch.sigmoid(pred)\n",
    "        loss = nn.functional.binary_cross_entropy(pred, y[:,None].cuda().float())\n",
    "    loss.backward()\n",
    "    optim.step()\n",
    "print(loss.item())"
   ]
  },
  {
   "cell_type": "code",
   "execution_count": 33,
   "id": "a64cb0b0-3885-4389-b1a9-ff64ecae77d6",
   "metadata": {
    "tags": []
   },
   "outputs": [
    {
     "data": {
      "application/vnd.jupyter.widget-view+json": {
       "model_id": "3d02339753034b5b9c91930f5a7616f8",
       "version_major": 2,
       "version_minor": 0
      },
      "text/plain": [
       "  0%|          | 0/1000 [00:00<?, ?it/s]"
      ]
     },
     "metadata": {},
     "output_type": "display_data"
    },
    {
     "name": "stdout",
     "output_type": "stream",
     "text": [
      "16000.1884765625\n"
     ]
    }
   ],
   "source": [
    "epsilon = 100.\n",
    "laplace_dp = latent_dp.LaplaceMechanism(epsilon, out)\n",
    "classifier = Classifier().cuda()\n",
    "optim = torch.optim.Adam(classifier.parameters(), lr=1e-3)\n",
    "for e in tqdm(range(1000)):\n",
    "    optim.zero_grad()\n",
    "    #if epsilon is not None:\n",
    "    # x = rev_dp.detach().cuda()\n",
    "    with torch.no_grad():\n",
    "        if ds_name == \"diabetes\":\n",
    "            cond = (x[:,1:2] > 0).float()\n",
    "        elif ds_name == \"breast_cancer\":\n",
    "            cond = y[:,None].cuda()\n",
    "        z, _ = model(x, cond)\n",
    "        z_dp = laplace_dp(z)\n",
    "        x_dp, _ = model(z_dp, cond, rev=True)\n",
    "    pred_dp = classifier(x_dp)\n",
    "    if ds_name == \"diabetes\":\n",
    "        loss = nn.functional.mse_loss(pred_dp, y[...,None].cuda().float())\n",
    "    elif ds_name == \"breast_cancer\":\n",
    "        pred = torch.sigmoid(pred)\n",
    "        loss = nn.functional.binary_cross_entropy(pred_dp, y[:,None].cuda().float())\n",
    "    loss.backward()\n",
    "    optim.step()\n",
    "print(loss.item())"
   ]
  },
  {
   "cell_type": "code",
   "execution_count": 34,
   "id": "0fa8d54e-d25c-4b59-b59e-ad2f2550e30f",
   "metadata": {},
   "outputs": [
    {
     "data": {
      "text/plain": [
       "<matplotlib.collections.PathCollection at 0x7f63e0395f70>"
      ]
     },
     "execution_count": 34,
     "metadata": {},
     "output_type": "execute_result"
    },
    {
     "data": {
      "image/png": "[encoded data removed]",
      "text/plain": [
       "<Figure size 432x288 with 1 Axes>"
      ]
     },
     "metadata": {},
     "output_type": "display_data"
    }
   ],
   "source": [
    "pred, y = pred.view(-1).cpu().detach(), y.view(-1).cpu()\n",
    "pred_dp = pred_dp.view(-1).cpu().detach()\n",
    "# plt.scatter(pred[(pred < 10000) & (pred > 0)], y[(pred < 10000) & (pred > 0)])\n",
    "plt.scatter(pred, y)\n",
    "plt.scatter(pred_dp, y)"
   ]
  },
  {
   "cell_type": "code",
   "execution_count": 161,
   "id": "09174a43-0326-487f-8c85-bca4e198a156",
   "metadata": {},
   "outputs": [
    {
     "data": {
      "text/plain": [
       "tensor([ 1.7595e+03, -2.3734e+04, -3.0265e+05, -2.1971e+03, -8.7640e+06,\n",
       "        -3.4812e+04, -8.8689e+03,  6.2822e+03, -3.7083e+04,  2.2571e+03,\n",
       "        -1.5220e+04, -1.0304e+05, -7.0010e+04, -1.2741e+04, -1.7069e+06,\n",
       "        -1.1397e+04, -7.0286e+04, -1.0399e+05, -3.3676e+06,  2.0467e+03,\n",
       "        -2.8303e+04,  9.8331e+02,  8.6012e+03, -1.3493e+05,  1.1968e+03,\n",
       "        -1.4845e+04,  9.8490e+01, -2.7176e+06, -2.1853e+03,  2.1730e+02,\n",
       "        -5.1340e+04,  1.7838e+03, -5.6797e+04,  5.9477e+03, -1.5302e+04,\n",
       "         6.2480e+03, -4.6861e+03, -7.0953e+06,  7.9281e+02,  4.4878e+03,\n",
       "        -2.7661e+05, -7.4031e+04,  6.9211e+03, -4.4801e+15, -5.8920e+04,\n",
       "        -1.0251e+05, -1.6234e+02,  1.3043e+03, -1.4658e+06,  3.6751e+03,\n",
       "        -1.0045e+05, -3.7021e+04, -1.3903e+04, -3.1914e+05, -7.4467e+04,\n",
       "        -3.4761e+04, -7.0342e+04, -5.0503e+05, -1.2309e+07, -6.1214e+06,\n",
       "         9.4519e+03, -4.0935e+03, -2.7927e+04, -4.6600e+05, -8.4269e+05,\n",
       "        -4.0384e+04,  1.1622e+02, -5.7363e+03, -1.9796e+03, -3.4714e+04,\n",
       "        -9.5601e+02, -1.2425e+07,  1.1930e+03,  1.4953e+03,  3.0382e+03,\n",
       "        -6.1469e+05, -6.3627e+04,  3.4316e+03, -2.9602e+04, -8.4734e+05,\n",
       "        -6.8363e+04, -1.6947e+04,  8.9905e+03, -4.5174e+02,  7.3506e+03,\n",
       "         9.8858e+03,  1.0785e+03, -6.5812e+04, -4.3137e+06, -1.0326e+05,\n",
       "         3.9258e+02,  5.4787e+03,  2.1084e+03, -1.9598e+03,  5.4104e+02,\n",
       "        -1.1731e+05,  8.7396e+03, -3.3960e+05, -5.4142e+02,  2.0269e+03,\n",
       "        -4.6446e+03, -2.1640e+04,  3.3820e+02, -2.7694e+04,  5.4766e+03,\n",
       "         8.8768e+03, -3.4827e+05, -4.6973e+06, -3.1030e+06, -1.1871e+03,\n",
       "        -5.2753e+04, -1.4508e+02,  5.4091e+03, -9.1374e+03, -7.4027e+08,\n",
       "        -7.2610e+05, -2.7745e+05, -2.1619e+04, -1.0285e+04, -2.4417e+04,\n",
       "        -4.0119e+05, -8.3514e+03, -3.2441e+03, -4.9925e+05,  1.5665e+03,\n",
       "        -1.8314e+05, -2.0676e+06, -8.5758e+01, -7.0084e+02,  2.4187e+03,\n",
       "        -7.0017e+05, -6.9872e+04, -2.1021e+05, -2.5422e+02, -1.7088e+05,\n",
       "         2.7320e+03, -2.9536e+03,  2.9155e+03, -3.4575e+03, -3.1550e+03,\n",
       "        -6.8875e+06, -6.1658e+04, -1.4770e+05, -1.5893e+06, -3.6841e+04,\n",
       "         1.8445e+03,  5.1747e+03, -2.7612e+05,  7.3387e+03, -1.9938e+05,\n",
       "        -1.6670e+03, -8.1960e+04, -3.0124e+05, -5.2122e+03, -8.4050e+04,\n",
       "        -3.1397e+03,  4.7192e+03, -6.8497e+04,  2.7325e+00, -4.1013e+04,\n",
       "        -9.3888e+03,  3.0042e+03,  9.6309e+03, -1.0423e+05,  4.5135e+02,\n",
       "        -2.8354e+04,  5.9382e+03, -1.3312e+04,  1.2399e+03, -4.2988e+04,\n",
       "        -1.4970e+05, -1.4928e+04, -1.4303e+04, -6.7250e+05, -3.2431e+05,\n",
       "         2.9861e+03, -5.3768e+03,  2.3770e+03, -5.1109e+04,  9.8242e+02,\n",
       "         3.7514e+03, -2.3593e+06, -8.2550e+04, -7.8001e+06,  7.4737e+03,\n",
       "        -8.4351e+02, -9.0298e+03, -4.8448e+05,  4.8562e+03, -2.4208e+05,\n",
       "         3.0210e+02,  6.5341e+03,  6.6174e+02,  3.4984e+02, -5.6307e+04,\n",
       "        -1.1679e+07,  9.7771e+03, -3.5771e+03, -1.9904e+03,  9.2039e+03,\n",
       "         6.4848e+03, -2.2058e+06, -1.2549e+04, -2.1126e+05, -5.3914e+04,\n",
       "        -4.5762e+03, -1.0360e+03, -1.2324e+05, -7.5920e+05, -1.1798e+04,\n",
       "         3.0952e+03, -2.9708e+06, -1.4626e+05, -8.7181e+04, -1.8204e+05,\n",
       "        -7.7563e+04, -1.2570e+05,  5.8974e+03,  4.1446e+03,  1.0935e+03,\n",
       "        -1.8935e+05, -5.2540e+01, -7.1760e+03,  3.3720e+03, -8.0966e+05,\n",
       "        -2.4139e+05,  6.9980e+03, -7.7814e+04, -3.1612e+05, -5.9751e+04,\n",
       "        -1.3346e+05, -9.1057e+03,  2.5443e+03, -1.5060e+05, -1.0693e+05,\n",
       "        -3.9869e+06, -1.7790e+03, -1.5878e+04, -2.2896e+04,  1.5663e+03,\n",
       "        -1.7976e+06, -1.5098e+04,  7.9570e+03, -8.4984e+04, -1.2977e+07,\n",
       "         2.4192e+02, -9.7534e+05, -2.3040e+03, -1.3495e+02, -3.4221e+05,\n",
       "         7.9263e+03, -4.6444e+06, -3.4052e+03, -1.5745e+04,  6.0561e+03,\n",
       "         8.5306e+03, -5.7045e+04, -4.8079e+04, -1.2216e+04, -2.5531e+04,\n",
       "        -1.1222e+05, -1.3969e+07, -2.0744e+04, -5.8419e+03, -1.0285e+05,\n",
       "        -1.0683e+03, -1.7104e+06, -1.3446e+05, -3.9296e+06, -2.9696e+04,\n",
       "        -3.0175e+05, -4.1296e+05,  2.6489e+03,  2.5461e+03,  4.6018e+03,\n",
       "         5.3204e+03, -1.7411e+06, -1.9035e+01, -1.3452e+04, -9.6376e+03,\n",
       "        -2.3170e+04, -3.1835e+04, -1.5679e+06, -5.6999e+04,  2.6531e+02,\n",
       "        -8.6089e+04, -7.2598e+05])"
      ]
     },
     "execution_count": 161,
     "metadata": {},
     "output_type": "execute_result"
    }
   ],
   "source": [
    "pred[pred < 10000]"
   ]
  },
  {
   "cell_type": "code",
   "execution_count": null,
   "id": "baf6022e-f5b9-4976-89f9-7e6d4e2151a4",
   "metadata": {
    "tags": []
   },
   "outputs": [],
   "source": [
    "pred = (pred > .5).float()\n",
    "acc = (pred.view(-1).cpu() == y).sum() / y.size(0)\n",
    "acc"
   ]
  },
  {
   "cell_type": "code",
   "execution_count": null,
   "id": "fb5f1714-6b2f-41d7-b0ff-7956cfad1c6d",
   "metadata": {},
   "outputs": [],
   "source": [
    "y.shape"
   ]
  },
  {
   "cell_type": "code",
   "execution_count": null,
   "id": "b0fb0ebe-82a6-43f3-9a51-c0ce145a071c",
   "metadata": {},
   "outputs": [],
   "source": []
  }
 ],
 "metadata": {
  "kernelspec": {
   "display_name": "cadp",
   "language": "python",
   "name": "cadp"
  },
  "language_info": {
   "codemirror_mode": {
    "name": "ipython",
    "version": 3
   },
   "file_extension": ".py",
   "mimetype": "text/x-python",
   "name": "python",
   "nbconvert_exporter": "python",
   "pygments_lexer": "ipython3",
   "version": "3.9.7"
  }
 },
 "nbformat": 4,
 "nbformat_minor": 5
}
