{
 "cells": [
  {
   "cell_type": "code",
   "execution_count": 2,
   "id": "5938f6d8-ea96-4afe-aa84-f5e3306980f7",
   "metadata": {},
   "outputs": [],
   "source": [
    "import numpy as np\n",
    "np.seterr(all='raise')\n",
    "import torch\n",
    "import torchvision\n",
    "import viz\n",
    "import data\n",
    "import latent_dp\n",
    "DATA_DIR = \"/mnt/ssd/data\"\n",
    "\n",
    "epsilons = [.2, .5, .8, 1.0, 2.0, 3.0, 6.0]\n",
    "sensitivity = 1."
   ]
  },
  {
   "cell_type": "markdown",
   "id": "b1183351-cf14-4200-ab48-50e8be8646ef",
   "metadata": {},
   "source": [
    "## MNIST"
   ]
  },
  {
   "cell_type": "code",
   "execution_count": 2,
   "id": "41fa2210-c158-487c-bb28-b75661bf16ef",
   "metadata": {},
   "outputs": [
    {
     "data": {
      "application/vnd.jupyter.widget-view+json": {
       "model_id": "d2a5950e4dfc4172bae762f52841614e",
       "version_major": 2,
       "version_minor": 0
      },
      "text/plain": [
       "interactive(children=(IntSlider(value=0, description='img', max=59999), Output()), _dom_classes=('widget-inter…"
      ]
     },
     "metadata": {},
     "output_type": "display_data"
    }
   ],
   "source": [
    "mnist = data.mnist_train_data(f\"{DATA_DIR}/mnist\")\n",
    "_ = viz.interactive_display_dataset(mnist)"
   ]
  },
  {
   "cell_type": "code",
   "execution_count": 3,
   "id": "1a56988f-f46a-4135-89ab-87a52587c9d0",
   "metadata": {
    "tags": []
   },
   "outputs": [
    {
     "data": {
      "application/vnd.jupyter.widget-view+json": {
       "model_id": "861040407ec640549f9349f0dece4767",
       "version_major": 2,
       "version_minor": 0
      },
      "text/plain": [
       "  0%|          | 0/117 [00:00<?, ?it/s]"
      ]
     },
     "metadata": {},
     "output_type": "display_data"
    },
    {
     "data": {
      "application/vnd.jupyter.widget-view+json": {
       "model_id": "a1894bb21f5748df8e061ce9a2a74fa1",
       "version_major": 2,
       "version_minor": 0
      },
      "text/plain": [
       "  0%|          | 0/117 [00:00<?, ?it/s]"
      ]
     },
     "metadata": {},
     "output_type": "display_data"
    },
    {
     "data": {
      "application/vnd.jupyter.widget-view+json": {
       "model_id": "fe2beaf011ef402cac7bb18250c687b7",
       "version_major": 2,
       "version_minor": 0
      },
      "text/plain": [
       "  0%|          | 0/117 [00:00<?, ?it/s]"
      ]
     },
     "metadata": {},
     "output_type": "display_data"
    },
    {
     "data": {
      "application/vnd.jupyter.widget-view+json": {
       "model_id": "0aa24a72b0604b26acb716a89e4b05eb",
       "version_major": 2,
       "version_minor": 0
      },
      "text/plain": [
       "  0%|          | 0/117 [00:00<?, ?it/s]"
      ]
     },
     "metadata": {},
     "output_type": "display_data"
    },
    {
     "data": {
      "application/vnd.jupyter.widget-view+json": {
       "model_id": "269b8726fc29452f87475192af863365",
       "version_major": 2,
       "version_minor": 0
      },
      "text/plain": [
       "  0%|          | 0/117 [00:00<?, ?it/s]"
      ]
     },
     "metadata": {},
     "output_type": "display_data"
    },
    {
     "data": {
      "application/vnd.jupyter.widget-view+json": {
       "model_id": "ce202a38a15540d0a4a4dbf694991eb9",
       "version_major": 2,
       "version_minor": 0
      },
      "text/plain": [
       "  0%|          | 0/117 [00:00<?, ?it/s]"
      ]
     },
     "metadata": {},
     "output_type": "display_data"
    },
    {
     "data": {
      "application/vnd.jupyter.widget-view+json": {
       "model_id": "9d722b20c39f42ef946cd599bcd17f43",
       "version_major": 2,
       "version_minor": 0
      },
      "text/plain": [
       "  0%|          | 0/117 [00:00<?, ?it/s]"
      ]
     },
     "metadata": {},
     "output_type": "display_data"
    }
   ],
   "source": [
    "max_s = 4.0\n",
    "for epsilon in epsilons:\n",
    "    save_path = f\"{DATA_DIR}/priv_mnist/{epsilon}\"\n",
    "    timestamp = \"0\"\n",
    "    exp_name = f\"mnist_conv_cond/{timestamp}\"\n",
    "    priv_mnist = latent_dp.privatize_pipeline(exp_name=exp_name,\n",
    "                                              save_path=save_path,\n",
    "                                              data_path=DATA_DIR,\n",
    "                                              epsilon=epsilon,\n",
    "                                              sensitivity=min(epsilon/2, max_s),\n",
    "                                              mechanism=\"laplace\")"
   ]
  },
  {
   "cell_type": "code",
   "execution_count": null,
   "id": "61a1f73d-062e-43d6-99a7-4638c96cf30a",
   "metadata": {},
   "outputs": [],
   "source": [
    "epsilon = 1.\n",
    "save_path = f\"{DATA_DIR}/priv_mnist/{epsilon}\"\n",
    "priv_mnist = torchvision.datasets.ImageFolder(save_path, transform=mnist.transform)\n",
    "_ = viz.interactive_display_dataset(priv_mnist)"
   ]
  },
  {
   "cell_type": "code",
   "execution_count": 4,
   "id": "ec9610ae-968b-4b13-bb80-4c819ba4e367",
   "metadata": {},
   "outputs": [
    {
     "data": {
      "application/vnd.jupyter.widget-view+json": {
       "model_id": "6c6bbb64d06c47bfa2ed6d37e8780e5f",
       "version_major": 2,
       "version_minor": 0
      },
      "text/plain": [
       "  0%|          | 0/19 [00:00<?, ?it/s]"
      ]
     },
     "metadata": {},
     "output_type": "display_data"
    },
    {
     "data": {
      "application/vnd.jupyter.widget-view+json": {
       "model_id": "e370992420fd4787b2c0b7629c4c6ff0",
       "version_major": 2,
       "version_minor": 0
      },
      "text/plain": [
       "  0%|          | 0/19 [00:00<?, ?it/s]"
      ]
     },
     "metadata": {},
     "output_type": "display_data"
    },
    {
     "data": {
      "application/vnd.jupyter.widget-view+json": {
       "model_id": "6d365af957f744acba42522964a7cf0d",
       "version_major": 2,
       "version_minor": 0
      },
      "text/plain": [
       "  0%|          | 0/19 [00:00<?, ?it/s]"
      ]
     },
     "metadata": {},
     "output_type": "display_data"
    },
    {
     "data": {
      "application/vnd.jupyter.widget-view+json": {
       "model_id": "84390fe45301493ca858bf797c475952",
       "version_major": 2,
       "version_minor": 0
      },
      "text/plain": [
       "  0%|          | 0/19 [00:00<?, ?it/s]"
      ]
     },
     "metadata": {},
     "output_type": "display_data"
    },
    {
     "data": {
      "application/vnd.jupyter.widget-view+json": {
       "model_id": "3fb38fef31a44a9882f8a0206bcf1832",
       "version_major": 2,
       "version_minor": 0
      },
      "text/plain": [
       "  0%|          | 0/19 [00:00<?, ?it/s]"
      ]
     },
     "metadata": {},
     "output_type": "display_data"
    },
    {
     "data": {
      "application/vnd.jupyter.widget-view+json": {
       "model_id": "58a8caaebe604689beaf1b54704d9862",
       "version_major": 2,
       "version_minor": 0
      },
      "text/plain": [
       "  0%|          | 0/19 [00:00<?, ?it/s]"
      ]
     },
     "metadata": {},
     "output_type": "display_data"
    },
    {
     "data": {
      "application/vnd.jupyter.widget-view+json": {
       "model_id": "d37348461a3b4b4284529a732f01b6e9",
       "version_major": 2,
       "version_minor": 0
      },
      "text/plain": [
       "  0%|          | 0/19 [00:00<?, ?it/s]"
      ]
     },
     "metadata": {},
     "output_type": "display_data"
    }
   ],
   "source": [
    "max_s = 4.0\n",
    "for epsilon in epsilons:\n",
    "    save_path = f\"{DATA_DIR}/priv_mnist_test/{epsilon}\"\n",
    "    timestamp = \"0\"\n",
    "    exp_name = f\"mnist_conv_cond/{timestamp}\"\n",
    "    priv_mnist = latent_dp.privatize_pipeline(exp_name=exp_name,\n",
    "                                              save_path=save_path,\n",
    "                                              data_path=DATA_DIR,\n",
    "                                              epsilon=epsilon,\n",
    "                                              sensitivity=min(epsilon/2, max_s),\n",
    "                                              dataset=\"test\",\n",
    "                                              mechanism=\"laplace\")"
   ]
  },
  {
   "cell_type": "markdown",
   "id": "29e5b0c5-cae3-465b-894a-a183c6f5c660",
   "metadata": {},
   "source": [
    "## CelebA"
   ]
  },
  {
   "cell_type": "code",
   "execution_count": null,
   "id": "914ea05d-2cca-4e37-84e4-d8a7be4dab40",
   "metadata": {
    "tags": []
   },
   "outputs": [],
   "source": [
    "celeba = data.celeba_train_data(f\"{DATA_DIR}/celeba\")\n",
    "_ = viz.interactive_display_dataset(celeba)"
   ]
  },
  {
   "cell_type": "markdown",
   "id": "2865fb9a-08e1-439c-9757-f5453452ad10",
   "metadata": {},
   "source": [
    "## Chest X-Ray"
   ]
  },
  {
   "cell_type": "code",
   "execution_count": 3,
   "id": "a8de9d0b-cda7-487b-bbda-e26b17c897ec",
   "metadata": {},
   "outputs": [
    {
     "data": {
      "application/vnd.jupyter.widget-view+json": {
       "model_id": "62ed72f969cf45c7ad3afb32925c5d59",
       "version_major": 2,
       "version_minor": 0
      },
      "text/plain": [
       "interactive(children=(IntSlider(value=0, description='img', max=5231), Output()), _dom_classes=('widget-intera…"
      ]
     },
     "metadata": {},
     "output_type": "display_data"
    }
   ],
   "source": [
    "chest_xray = data.chest_xray_train_data(f\"{DATA_DIR}/chest_xray\")\n",
    "_ = viz.interactive_display_dataset(chest_xray)"
   ]
  },
  {
   "cell_type": "code",
   "execution_count": 7,
   "id": "f8712dfa-0e1d-4e0b-8818-ce2cdd1df5ee",
   "metadata": {},
   "outputs": [],
   "source": [
    "torch.save(chest_xray, \"/mnt/ssd/data/chest_xray/chest_xray_train.pt\")\n",
    "test_chest_xray = data.chest_xray_test_data(f\"{DATA_DIR}/chest_xray\")\n",
    "torch.save(test_chest_xray, \"/mnt/ssd/data/chest_xray/chest_xray_test.pt\")"
   ]
  },
  {
   "cell_type": "code",
   "execution_count": null,
   "id": "86cdf28b-d185-4a52-9805-7b63b07934a5",
   "metadata": {
    "tags": []
   },
   "outputs": [],
   "source": [
    "max_s = 4.0\n",
    "for epsilon in epsilons:\n",
    "    save_path = f\"{DATA_DIR}/priv_chest_xray/{epsilon}\"\n",
    "    timestamp = \"1645635622.8975923\"\n",
    "    exp_name = f\"chest_xray_conv_cond/{timestamp}\"\n",
    "    priv_chest_xray = latent_dp.privatize_pipeline(exp_name=exp_name,\n",
    "                                                   save_path=save_path,\n",
    "                                                   data_path=DATA_DIR,\n",
    "                                                   epsilon=epsilon,\n",
    "                                                   sensitivity=min(epsilon/2, max_s),\n",
    "                                                   mechanism=\"laplace\")"
   ]
  },
  {
   "cell_type": "code",
   "execution_count": null,
   "id": "0f52421b-98d9-4f05-b74e-7de39ddb0759",
   "metadata": {},
   "outputs": [],
   "source": [
    "epsilon = .5\n",
    "save_path = f\"{DATA_DIR}/priv_chest_xray/{epsilon}\"\n",
    "priv_chest_xray = torchvision.datasets.ImageFolder(save_path, transform=chest_xray.transform)\n",
    "_ = viz.interactive_display_dataset(priv_chest_xray)"
   ]
  },
  {
   "cell_type": "code",
   "execution_count": null,
   "id": "fba52b89-d4c0-42e0-bf7a-c4328fae9e46",
   "metadata": {},
   "outputs": [],
   "source": [
    "max_s = 4.0\n",
    "for epsilon in epsilons:\n",
    "    save_path = f\"{DATA_DIR}/priv_chest_xray_test/{epsilon}\"\n",
    "    timestamp = \"1645635622.8975923\"\n",
    "    exp_name = f\"chest_xray_conv_cond/{timestamp}\"\n",
    "    priv_chest_xray = latent_dp.privatize_pipeline(exp_name=exp_name,\n",
    "                                                   save_path=save_path,\n",
    "                                                   data_path=DATA_DIR,\n",
    "                                                   epsilon=epsilon,\n",
    "                                                   sensitivity=min(epsilon/2, max_s),\n",
    "                                                   dataset=\"test\",\n",
    "                                                   mechanism=\"laplace\")"
   ]
  },
  {
   "cell_type": "markdown",
   "id": "fd1a282b-02e7-437e-818e-b659e57ac7bf",
   "metadata": {},
   "source": [
    "## OCT"
   ]
  },
  {
   "cell_type": "code",
   "execution_count": 4,
   "id": "7114c9ae-187c-4965-99d3-c4efaf670d8d",
   "metadata": {},
   "outputs": [
    {
     "data": {
      "application/vnd.jupyter.widget-view+json": {
       "model_id": "05806dd878ac4cf5a39cc38a3c80e4d6",
       "version_major": 2,
       "version_minor": 0
      },
      "text/plain": [
       "interactive(children=(IntSlider(value=0, description='img', max=108308), Output()), _dom_classes=('widget-inte…"
      ]
     },
     "metadata": {},
     "output_type": "display_data"
    }
   ],
   "source": [
    "_oct = data.chest_xray_train_data(f\"{DATA_DIR}/oct\")\n",
    "_ = viz.interactive_display_dataset(_oct)"
   ]
  },
  {
   "cell_type": "code",
   "execution_count": 10,
   "id": "14df92c5-def2-480d-9690-a8e330f5ea62",
   "metadata": {},
   "outputs": [
    {
     "data": {
      "application/vnd.jupyter.widget-view+json": {
       "model_id": "fb4f003fe81745999703157f4cac6148",
       "version_major": 2,
       "version_minor": 0
      },
      "text/plain": [
       "0it [00:00, ?it/s]"
      ]
     },
     "metadata": {},
     "output_type": "display_data"
    }
   ],
   "source": [
    "import cv2\n",
    "from pathlib import Path\n",
    "from tqdm.notebook import tqdm\n",
    "\n",
    "t = torchvision.transforms.ToPILImage()\n",
    "\n",
    "save_path =\"/mnt/ssd/data/oct_resized\"\n",
    "classes = [\"CNV\", \"DME\", \"DRUSEN\", \"NORMAL\"]\n",
    "for i, (o, y) in tqdm(enumerate(_oct)):\n",
    "    _img_path = f\"{save_path}/{classes[y]}\"\n",
    "    Path(_img_path).mkdir(parents=True, exist_ok=True)\n",
    "    img = t(o)\n",
    "    img.save(f\"{_img_path}/{i}.png\")"
   ]
  },
  {
   "cell_type": "code",
   "execution_count": null,
   "id": "f2609d14-51e8-4855-9be8-a2017a4079e9",
   "metadata": {
    "tags": []
   },
   "outputs": [],
   "source": [
    "max_s = 4.0\n",
    "for epsilon in epsilons:\n",
    "    save_path = f\"{DATA_DIR}/priv_oct/{epsilon}\"\n",
    "    timestamp = \"1645541874.705858\"\n",
    "    exp_name = f\"oct_conv_cond/{timestamp}\"\n",
    "    priv_oct = latent_dp.privatize_pipeline(exp_name=exp_name,\n",
    "                                            save_path=save_path,\n",
    "                                            data_path=DATA_DIR,\n",
    "                                            epsilon=epsilon,\n",
    "                                            sensitivity=min(epsilon/2, max_s),\n",
    "                                            mechanism=\"laplace\")"
   ]
  },
  {
   "cell_type": "code",
   "execution_count": null,
   "id": "b796bcae-b882-4155-9357-2bdf973cdd1d",
   "metadata": {},
   "outputs": [],
   "source": [
    "max_s = 4.0\n",
    "for epsilon in epsilons:\n",
    "    save_path = f\"{DATA_DIR}/priv_oct_test/{epsilon}\"\n",
    "    timestamp = \"1645541874.705858\"\n",
    "    exp_name = f\"oct_conv_cond/{timestamp}\"\n",
    "    priv_oct = latent_dp.privatize_pipeline(exp_name=exp_name,\n",
    "                                            save_path=save_path,\n",
    "                                            data_path=DATA_DIR,\n",
    "                                            epsilon=epsilon,\n",
    "                                            sensitivity=min(epsilon/2, max_s),\n",
    "                                            dataset=\"test\",\n",
    "                                            mechanism=\"laplace\")"
   ]
  },
  {
   "cell_type": "code",
   "execution_count": null,
   "id": "371d2b0e-ae1c-47b3-aa98-43cf14f48b28",
   "metadata": {},
   "outputs": [],
   "source": []
  }
 ],
 "metadata": {
  "kernelspec": {
   "display_name": "Python 3.9.13 64-bit",
   "language": "python",
   "name": "python3"
  },
  "language_info": {
   "codemirror_mode": {
    "name": "ipython",
    "version": 3
   },
   "file_extension": ".py",
   "mimetype": "text/x-python",
   "name": "python",
   "nbconvert_exporter": "python",
   "pygments_lexer": "ipython3",
   "version": "3.9.13"
  },
  "vscode": {
   "interpreter": {
    "hash": "aee8b7b246df8f9039afb4144a1f6fd8d2ca17a180786b69acc140d282b71a49"
   }
  }
 },
 "nbformat": 4,
 "nbformat_minor": 5
}
